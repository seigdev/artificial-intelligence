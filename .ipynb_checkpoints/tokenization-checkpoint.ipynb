{
 "cells": [
  {
   "cell_type": "code",
   "execution_count": 2,
   "metadata": {},
   "outputs": [],
   "source": [
    "## define the paragraph.\n",
    "corpus = \"\"\" The afternoon sun cast long shadows across the quiet street as\n",
    " a gentle breeze rustled the golden leaves clinging stubbornly to the trees. \n",
    " A faint scent of freshly brewed coffee drifted from a nearby café, mingling\n",
    "  with the distant hum of traffic. A cyclist whizzed past, their scarf fluttering \n",
    "  behind them like a banner in the wind. Across the road, an elderly man sat on a bench, \n",
    "  flipping through a well-worn book, occasionally glancing up as if expecting someone. \n",
    "  The world moved at its usual pace, yet there was an air of quiet anticipation, \n",
    "  as though something just beyond the horizon was about to unfold.\n",
    "\"\"\""
   ]
  },
  {
   "cell_type": "code",
   "execution_count": null,
   "metadata": {},
   "outputs": [],
   "source": [
    "## convert sentences into paragraphs.\n",
    "from nltk.tokenize import sent_tokenize"
   ]
  },
  {
   "cell_type": "code",
   "execution_count": null,
   "metadata": {},
   "outputs": [],
   "source": []
  },
  {
   "cell_type": "code",
   "execution_count": null,
   "metadata": {},
   "outputs": [],
   "source": []
  },
  {
   "cell_type": "code",
   "execution_count": null,
   "metadata": {},
   "outputs": [],
   "source": []
  },
  {
   "cell_type": "code",
   "execution_count": null,
   "metadata": {},
   "outputs": [],
   "source": []
  }
 ],
 "metadata": {
  "kernelspec": {
   "display_name": "Python 3",
   "language": "python",
   "name": "python3"
  },
  "language_info": {
   "codemirror_mode": {
    "name": "ipython",
    "version": 3
   },
   "file_extension": ".py",
   "mimetype": "text/x-python",
   "name": "python",
   "nbconvert_exporter": "python",
   "pygments_lexer": "ipython3",
   "version": "3.13.1"
  }
 },
 "nbformat": 4,
 "nbformat_minor": 2
}
