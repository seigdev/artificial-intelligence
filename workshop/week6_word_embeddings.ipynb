{
 "cells": [
  {
   "cell_type": "markdown",
   "metadata": {
    "id": "7SN5USFEIIK3"
   },
   "source": [
    "# Word embeddings"
   ]
  },
  {
   "attachments": {},
   "cell_type": "markdown",
   "metadata": {
    "id": "Aojnnc7sXrab"
   },
   "source": [
    "<table class=\"tfo-notebook-buttons\" align=\"left\">\n",
    "  <td>\n",
    "    <a target=\"_blank\" href=\"https://colab.research.google.com/github/Ali-Alameer/NLP/blob/main/week6_word_embeddings.ipynb\">\n",
    "    <img src=\"https://www.tensorflow.org/images/colab_logo_32px.png\" />\n",
    "    Run in Google Colab</a>\n",
    "  </td>\n",
    "</table>"
   ]
  },
  {
   "cell_type": "markdown",
   "metadata": {
    "id": "Q6mJg1g3apaz"
   },
   "source": [
    "This workshop contains an introduction to word embeddings. You will train your own word embeddings using a simple Keras model for a sentiment classification task, and then visualize them in the [Embedding Projector](http://projector.tensorflow.org)\n",
    "\n",
    "## Representing text as numbers\n",
    "\n",
    "Machine learning models take vectors (arrays of numbers) as input. When working with text, the first thing you must do is come up with a strategy to convert strings to numbers (or to \"vectorize\" the text) before feeding it to the model. In this section, you will look at three strategies for doing so.\n",
    "\n",
    "### One-hot encodings\n",
    "\n",
    "As a first idea, you might \"one-hot\" encode each word in your vocabulary. Consider the sentence \"The cat sat on the mat\". The vocabulary (or unique words) in this sentence is (cat, mat, on, sat, the). To represent each word, you will create a zero vector with length equal to the vocabulary, then place a one in the index that corresponds to the word. This approach is shown in the following diagram.\n",
    "\n",
    "<img src=\"https://www.tensorflow.org/static/text/guide/images/one-hot.png\" alt=\"Diagram of one-hot encodings\" width=\"400\" />\n",
    "\n",
    "To create a vector that contains the encoding of the sentence, you could then concatenate the one-hot vectors for each word.\n",
    "\n",
    "Key point: This approach is inefficient. A one-hot encoded vector is sparse (meaning, most indices are zero). Imagine you have 10,000 words in the vocabulary. To one-hot encode each word, you would create a vector where 99.99% of the elements are zero.\n",
    "\n",
    "### Encode each word with a unique number\n",
    "\n",
    "A second approach you might try is to encode each word using a unique number. Continuing the example above, you could assign 1 to \"cat\", 2 to \"mat\", and so on. You could then encode the sentence \"The cat sat on the mat\" as a dense vector like [5, 1, 4, 3, 5, 2]. This approach is efficient. Instead of a sparse vector, you now have a dense one (where all elements are full).\n",
    "\n",
    "There are two downsides to this approach, however:\n",
    "\n",
    "* The integer-encoding is arbitrary (it does not capture any relationship between words).\n",
    "\n",
    "* An integer-encoding can be challenging for a model to interpret. A linear classifier, for example, learns a single weight for each feature. Because there is no relationship between the similarity of any two words and the similarity of their encodings, this feature-weight combination is not meaningful.\n",
    "\n",
    "### Word embeddings\n",
    "\n",
    "Word embeddings give us a way to use an efficient, dense representation in which similar words have a similar encoding. Importantly, you do not have to specify this encoding by hand. An embedding is a dense vector of floating point values (the length of the vector is a parameter you specify). Instead of specifying the values for the embedding manually, they are trainable parameters (weights learned by the model during training, in the same way a model learns weights for a dense layer). It is common to see word embeddings that are 8-dimensional (for small datasets), up to 1024-dimensions when working with large datasets. A higher dimensional embedding can capture fine-grained relationships between words, but takes more data to learn.\n",
    "\n",
    "<img src=\"https://www.tensorflow.org/static/text/guide/images/embedding2.png\" alt=\"Diagram of an embedding\" width=\"400\"/>\n",
    "\n",
    "Above is a diagram for a word embedding. Each word is represented as a 4-dimensional vector of floating point values. Another way to think of an embedding is as \"lookup table\". After these weights have been learned, you can encode each word by looking up the dense vector it corresponds to in the table."
   ]
  },
  {
   "cell_type": "markdown",
   "metadata": {
    "id": "SZUQErGewZxE"
   },
   "source": [
    "## Setup"
   ]
  },
  {
   "cell_type": "code",
   "execution_count": 1,
   "metadata": {
    "execution": {
     "iopub.execute_input": "2022-10-19T22:25:12.245596Z",
     "iopub.status.busy": "2022-10-19T22:25:12.245320Z",
     "iopub.status.idle": "2022-10-19T22:25:14.554506Z",
     "shell.execute_reply": "2022-10-19T22:25:14.553587Z"
    },
    "id": "RutaI-Tpev3T"
   },
   "outputs": [
    {
     "name": "stderr",
     "output_type": "stream",
     "text": [
      "2025-02-23 13:50:17.520634: I tensorflow/core/platform/cpu_feature_guard.cc:182] This TensorFlow binary is optimized to use available CPU instructions in performance-critical operations.\n",
      "To enable the following instructions: AVX2 FMA, in other operations, rebuild TensorFlow with the appropriate compiler flags.\n",
      "/Users/sooreoluwa/Library/Python/3.9/lib/python/site-packages/urllib3/__init__.py:35: NotOpenSSLWarning: urllib3 v2 only supports OpenSSL 1.1.1+, currently the 'ssl' module is compiled with 'LibreSSL 2.8.3'. See: https://github.com/urllib3/urllib3/issues/3020\n",
      "  warnings.warn(\n"
     ]
    },
    {
     "name": "stdout",
     "output_type": "stream",
     "text": [
      "No supported GPU was found.\n"
     ]
    }
   ],
   "source": [
    "import io\n",
    "import os\n",
    "import re\n",
    "import shutil\n",
    "import string\n",
    "import tensorflow as tf\n",
    "\n",
    "from tensorflow.keras import Sequential\n",
    "from tensorflow.keras.layers import Dense, Embedding, GlobalAveragePooling1D\n",
    "from tensorflow.keras.layers import TextVectorization"
   ]
  },
  {
   "cell_type": "markdown",
   "metadata": {
    "id": "SBFctV8-JZOc"
   },
   "source": [
    "### Download the IMDb Dataset\n",
    "You will use the [Large Movie Review Dataset](http://ai.stanford.edu/~amaas/data/sentiment/) through the workshop. You will train a sentiment classifier model on this dataset and in the process learn embeddings from scratch. To read more about loading a dataset from scratch, see the [Loading text tutorial](https://www.tensorflow.org/tutorials/load_data/text).  \n",
    "\n",
    "Download the dataset using Keras file utility and take a look at the directories."
   ]
  },
  {
   "cell_type": "code",
   "execution_count": 2,
   "metadata": {
    "execution": {
     "iopub.execute_input": "2022-10-19T22:25:14.560128Z",
     "iopub.status.busy": "2022-10-19T22:25:14.559701Z",
     "iopub.status.idle": "2022-10-19T22:25:37.660902Z",
     "shell.execute_reply": "2022-10-19T22:25:37.659972Z"
    },
    "id": "aPO4_UmfF0KH"
   },
   "outputs": [
    {
     "name": "stdout",
     "output_type": "stream",
     "text": [
      "Downloading data from https://ai.stanford.edu/~amaas/data/sentiment/aclImdb_v1.tar.gz\n",
      "84125825/84125825 [==============================] - 45s 1us/step\n"
     ]
    },
    {
     "data": {
      "text/plain": [
       "['imdbEr.txt', 'test', 'imdb.vocab', 'README', 'train']"
      ]
     },
     "execution_count": 2,
     "metadata": {},
     "output_type": "execute_result"
    }
   ],
   "source": [
    "url = \"https://ai.stanford.edu/~amaas/data/sentiment/aclImdb_v1.tar.gz\"\n",
    "\n",
    "dataset = tf.keras.utils.get_file(\"aclImdb_v1.tar.gz\", url,\n",
    "                                  untar=True, cache_dir='.',\n",
    "                                  cache_subdir='')\n",
    "\n",
    "dataset_dir = os.path.join(os.path.dirname(dataset), 'aclImdb')\n",
    "os.listdir(dataset_dir)"
   ]
  },
  {
   "cell_type": "markdown",
   "metadata": {
    "id": "eY6yROZNKvbd"
   },
   "source": [
    "Take a look at the `train/` directory. It has `pos` and `neg` folders with movie reviews labelled as positive and negative respectively. You will use reviews from `pos` and `neg` folders to train a binary classification model."
   ]
  },
  {
   "cell_type": "code",
   "execution_count": 3,
   "metadata": {
    "execution": {
     "iopub.execute_input": "2022-10-19T22:25:37.665788Z",
     "iopub.status.busy": "2022-10-19T22:25:37.665475Z",
     "iopub.status.idle": "2022-10-19T22:25:37.671724Z",
     "shell.execute_reply": "2022-10-19T22:25:37.670853Z"
    },
    "id": "9-iOHJGN6SDu"
   },
   "outputs": [
    {
     "data": {
      "text/plain": [
       "['urls_unsup.txt',\n",
       " 'neg',\n",
       " 'urls_pos.txt',\n",
       " 'unsup',\n",
       " 'urls_neg.txt',\n",
       " 'pos',\n",
       " 'unsupBow.feat',\n",
       " 'labeledBow.feat']"
      ]
     },
     "execution_count": 3,
     "metadata": {},
     "output_type": "execute_result"
    }
   ],
   "source": [
    "train_dir = os.path.join(dataset_dir, 'train')\n",
    "os.listdir(train_dir)"
   ]
  },
  {
   "cell_type": "markdown",
   "metadata": {
    "id": "9O59BdioK8jY"
   },
   "source": [
    "The `train` directory also has additional folders which should be removed before creating training dataset."
   ]
  },
  {
   "cell_type": "code",
   "execution_count": 4,
   "metadata": {
    "execution": {
     "iopub.execute_input": "2022-10-19T22:25:37.676317Z",
     "iopub.status.busy": "2022-10-19T22:25:37.675717Z",
     "iopub.status.idle": "2022-10-19T22:25:39.512071Z",
     "shell.execute_reply": "2022-10-19T22:25:39.511028Z"
    },
    "id": "1_Vfi9oWMSh-"
   },
   "outputs": [],
   "source": [
    "remove_dir = os.path.join(train_dir, 'unsup')\n",
    "shutil.rmtree(remove_dir)"
   ]
  },
  {
   "cell_type": "markdown",
   "metadata": {
    "id": "oFoJjiEyJz9u"
   },
   "source": [
    "Next, create a `tf.data.Dataset` using `tf.keras.utils.text_dataset_from_directory`. You can read more about using this utility in this [text classification tutorial](https://www.tensorflow.org/tutorials/keras/text_classification). \n",
    "\n",
    "Use the `train` directory to create both train and validation datasets with a split of 20% for validation. The seed option is for random seed for shuffling and transformations."
   ]
  },
  {
   "cell_type": "code",
   "execution_count": 5,
   "metadata": {
    "execution": {
     "iopub.execute_input": "2022-10-19T22:25:39.517993Z",
     "iopub.status.busy": "2022-10-19T22:25:39.517666Z",
     "iopub.status.idle": "2022-10-19T22:25:46.848745Z",
     "shell.execute_reply": "2022-10-19T22:25:46.847661Z"
    },
    "id": "ItYD3TLkCOP1"
   },
   "outputs": [
    {
     "name": "stdout",
     "output_type": "stream",
     "text": [
      "Found 25000 files belonging to 2 classes.\n",
      "Using 20000 files for training.\n",
      "Found 25000 files belonging to 2 classes.\n",
      "Using 5000 files for validation.\n"
     ]
    }
   ],
   "source": [
    "batch_size = 1024\n",
    "seed = 123\n",
    "train_ds = tf.keras.utils.text_dataset_from_directory(\n",
    "    'aclImdb/train', batch_size=batch_size, validation_split=0.2,\n",
    "    subset='training', seed=seed)\n",
    "val_ds = tf.keras.utils.text_dataset_from_directory(\n",
    "    'aclImdb/train', batch_size=batch_size, validation_split=0.2,\n",
    "    subset='validation', seed=seed)"
   ]
  },
  {
   "cell_type": "markdown",
   "metadata": {
    "id": "eHa6cq0-Ym0g"
   },
   "source": [
    "Take a look at a few movie reviews and their labels `(1: positive, 0: negative)` from the train dataset.\n"
   ]
  },
  {
   "cell_type": "code",
   "execution_count": 6,
   "metadata": {
    "execution": {
     "iopub.execute_input": "2022-10-19T22:25:46.853280Z",
     "iopub.status.busy": "2022-10-19T22:25:46.852988Z",
     "iopub.status.idle": "2022-10-19T22:25:46.999705Z",
     "shell.execute_reply": "2022-10-19T22:25:46.998752Z"
    },
    "id": "aTCbSkvkYmTT"
   },
   "outputs": [
    {
     "name": "stderr",
     "output_type": "stream",
     "text": [
      "2025-02-23 14:10:09.751839: I tensorflow/core/common_runtime/executor.cc:1197] [/device:CPU:0] (DEBUG INFO) Executor start aborting (this does not indicate an error and you can ignore this message): INVALID_ARGUMENT: You must feed a value for placeholder tensor 'Placeholder/_0' with dtype string and shape [20000]\n",
      "\t [[{{node Placeholder/_0}}]]\n",
      "2025-02-23 14:10:09.752984: I tensorflow/core/common_runtime/executor.cc:1197] [/device:CPU:0] (DEBUG INFO) Executor start aborting (this does not indicate an error and you can ignore this message): INVALID_ARGUMENT: You must feed a value for placeholder tensor 'Placeholder/_0' with dtype string and shape [20000]\n",
      "\t [[{{node Placeholder/_0}}]]\n"
     ]
    },
    {
     "name": "stdout",
     "output_type": "stream",
     "text": [
      "0 b\"Oh My God! Please, for the love of all that is holy, Do Not Watch This Movie! It it 82 minutes of my life I will never get back. Sure, I could have stopped watching half way through. But I thought it might get better. It Didn't. Anyone who actually enjoyed this movie is one seriously sick and twisted individual. No wonder us Australians/New Zealanders have a terrible reputation when it comes to making movies. Everything about this movie is horrible, from the acting to the editing. I don't even normally write reviews on here, but in this case I'll make an exception. I only wish someone had of warned me before I hired this catastrophe\"\n",
      "1 b'This movie is SOOOO funny!!! The acting is WONDERFUL, the Ramones are sexy, the jokes are subtle, and the plot is just what every high schooler dreams of doing to his/her school. I absolutely loved the soundtrack as well as the carefully placed cynicism. If you like monty python, You will love this film. This movie is a tad bit \"grease\"esk (without all the annoying songs). The songs that are sung are likable; you might even find yourself singing these songs once the movie is through. This musical ranks number two in musicals to me (second next to the blues brothers). But please, do not think of it as a musical per say; seeing as how the songs are so likable, it is hard to tell a carefully choreographed scene is taking place. I think of this movie as more of a comedy with undertones of romance. You will be reminded of what it was like to be a rebellious teenager; needless to say, you will be reminiscing of your old high school days after seeing this film. Highly recommended for both the family (since it is a very youthful but also for adults since there are many jokes that are funnier with age and experience.'\n",
      "0 b\"Alex D. Linz replaces Macaulay Culkin as the central figure in the third movie in the Home Alone empire. Four industrial spies acquire a missile guidance system computer chip and smuggle it through an airport inside a remote controlled toy car. Because of baggage confusion, grouchy Mrs. Hess (Marian Seldes) gets the car. She gives it to her neighbor, Alex (Linz), just before the spies turn up. The spies rent a house in order to burglarize each house in the neighborhood until they locate the car. Home alone with the chicken pox, Alex calls 911 each time he spots a theft in progress, but the spies always manage to elude the police while Alex is accused of making prank calls. The spies finally turn their attentions toward Alex, unaware that he has rigged devices to cleverly booby-trap his entire house. Home Alone 3 wasn't horrible, but probably shouldn't have been made, you can't just replace Macauley Culkin, Joe Pesci, or Daniel Stern. Home Alone 3 had some funny parts, but I don't like when characters are changed in a movie series, view at own risk.\"\n",
      "0 b\"There's a good movie lurking here, but this isn't it. The basic idea is good: to explore the moral issues that would face a group of young survivors of the apocalypse. But the logic is so muddled that it's impossible to get involved.<br /><br />For example, our four heroes are (understandably) paranoid about catching the mysterious airborne contagion that's wiped out virtually all of mankind. Yet they wear surgical masks some times, not others. Some times they're fanatical about wiping down with bleach any area touched by an infected person. Other times, they seem completely unconcerned.<br /><br />Worse, after apparently surviving some weeks or months in this new kill-or-be-killed world, these people constantly behave like total newbs. They don't bother accumulating proper equipment, or food. They're forever running out of fuel in the middle of nowhere. They don't take elementary precautions when meeting strangers. And after wading through the rotting corpses of the entire human race, they're as squeamish as sheltered debutantes. You have to constantly wonder how they could have survived this long... and even if they did, why anyone would want to make a movie about them.<br /><br />So when these dweebs stop to agonize over the moral dimensions of their actions, it's impossible to take their soul-searching seriously. Their actions would first have to make some kind of minimal sense.<br /><br />On top of all this, we must contend with the dubious acting abilities of Chris Pine. His portrayal of an arrogant young James T Kirk might have seemed shrewd, when viewed in isolation. But in Carriers he plays on exactly that same note: arrogant and boneheaded. It's impossible not to suspect that this constitutes his entire dramatic range.<br /><br />On the positive side, the film *looks* excellent. It's got an over-sharp, saturated look that really suits the southwestern US locale. But that can't save the truly feeble writing nor the paper-thin (and annoying) characters. Even if you're a fan of the end-of-the-world genre, you should save yourself the agony of watching Carriers.\"\n",
      "0 b'I saw this movie at an actual movie theater (probably the $2.00 one) with my cousin and uncle. We were around 11 and 12, I guess, and really into scary movies. I remember being so excited to see it because my cool uncle let us pick the movie (and we probably never got to do that again!) and sooo disappointed afterwards!! Just boring and not scary. The only redeeming thing I can remember was Corky Pigeon from Silver Spoons, and that wasn\\'t all that great, just someone I recognized. I\\'ve seen bad movies before and this one has always stuck out in my mind as the worst. This was from what I can recall, one of the most boring, non-scary, waste of our collective $6, and a waste of film. I have read some of the reviews that say it is worth a watch and I say, \"Too each his own\", but I wouldn\\'t even bother. Not even so bad it\\'s good.'\n"
     ]
    }
   ],
   "source": [
    "for text_batch, label_batch in train_ds.take(1):\n",
    "  for i in range(5):\n",
    "    print(label_batch[i].numpy(), text_batch.numpy()[i])"
   ]
  },
  {
   "cell_type": "markdown",
   "metadata": {
    "id": "FHV2pchDhzDn"
   },
   "source": [
    "### Configure the dataset for performance\n",
    "\n",
    "These are two important methods you should use when loading data to make sure that I/O does not become blocking.\n",
    "\n",
    "`.cache()` keeps data in memory after it's loaded off disk. This will ensure the dataset does not become a bottleneck while training your model. If your dataset is too large to fit into memory, you can also use this method to create a performant on-disk cache, which is more efficient to read than many small files.\n",
    "\n",
    "`.prefetch()` overlaps data preprocessing and model execution while training. \n",
    "\n",
    "You can learn more about both methods, as well as how to cache data to disk in the [data performance guide](https://www.tensorflow.org/guide/data_performance)."
   ]
  },
  {
   "cell_type": "code",
   "execution_count": 7,
   "metadata": {
    "execution": {
     "iopub.execute_input": "2022-10-19T22:25:47.004082Z",
     "iopub.status.busy": "2022-10-19T22:25:47.003745Z",
     "iopub.status.idle": "2022-10-19T22:25:47.012700Z",
     "shell.execute_reply": "2022-10-19T22:25:47.011826Z"
    },
    "id": "Oz6k1IW7h1TO"
   },
   "outputs": [],
   "source": [
    "AUTOTUNE = tf.data.AUTOTUNE\n",
    "\n",
    "train_ds = train_ds.cache().prefetch(buffer_size=AUTOTUNE)\n",
    "val_ds = val_ds.cache().prefetch(buffer_size=AUTOTUNE)"
   ]
  },
  {
   "cell_type": "markdown",
   "metadata": {
    "id": "eqBazMiVQkj1"
   },
   "source": [
    "## Using the Embedding layer\n",
    "\n",
    "Keras makes it easy to use word embeddings. Take a look at the [Embedding](https://www.tensorflow.org/api_docs/python/tf/keras/layers/Embedding) layer.\n",
    "\n",
    "The Embedding layer can be understood as a lookup table that maps from integer indices (which stand for specific words) to dense vectors (their embeddings). The dimensionality (or width) of the embedding is a parameter you can experiment with to see what works well for your problem, much in the same way you would experiment with the number of neurons in a Dense layer.\n"
   ]
  },
  {
   "cell_type": "code",
   "execution_count": 8,
   "metadata": {
    "execution": {
     "iopub.execute_input": "2022-10-19T22:25:47.016912Z",
     "iopub.status.busy": "2022-10-19T22:25:47.016617Z",
     "iopub.status.idle": "2022-10-19T22:25:47.024225Z",
     "shell.execute_reply": "2022-10-19T22:25:47.023335Z"
    },
    "id": "-OjxLVrMvWUE"
   },
   "outputs": [],
   "source": [
    "# Embed a 1,000 word vocabulary into 5 dimensions.\n",
    "embedding_layer = tf.keras.layers.Embedding(1000, 5)"
   ]
  },
  {
   "cell_type": "markdown",
   "metadata": {
    "id": "2dKKV1L2Rk7e"
   },
   "source": [
    "When you create an Embedding layer, the weights for the embedding are randomly initialized (just like any other layer). During training, they are gradually adjusted via backpropagation. Once trained, the learned word embeddings will roughly encode similarities between words (as they were learned for the specific problem your model is trained on).\n",
    "\n",
    "If you pass an integer to an embedding layer, the result replaces each integer with the vector from the embedding table:"
   ]
  },
  {
   "cell_type": "code",
   "execution_count": 10,
   "metadata": {
    "execution": {
     "iopub.execute_input": "2022-10-19T22:25:47.028441Z",
     "iopub.status.busy": "2022-10-19T22:25:47.028175Z",
     "iopub.status.idle": "2022-10-19T22:25:47.054315Z",
     "shell.execute_reply": "2022-10-19T22:25:47.053487Z"
    },
    "id": "0YUjPgP7w0PO"
   },
   "outputs": [
    {
     "data": {
      "text/plain": [
       "array([[ 0.04526312,  0.03125863,  0.04178387,  0.01486683,  0.0106474 ],\n",
       "       [ 0.04526312,  0.03125863,  0.04178387,  0.01486683,  0.0106474 ],\n",
       "       [ 0.02789453,  0.04521744, -0.02542894,  0.041753  ,  0.04844561]],\n",
       "      dtype=float32)"
      ]
     },
     "execution_count": 10,
     "metadata": {},
     "output_type": "execute_result"
    }
   ],
   "source": [
    "result = embedding_layer(tf.constant([1, 1.1, 3]))\n",
    "result.numpy()"
   ]
  },
  {
   "cell_type": "markdown",
   "metadata": {
    "id": "O4PC4QzsxTGx"
   },
   "source": [
    "For text or sequence problems, the Embedding layer takes a 2D tensor of integers, of shape `(samples, sequence_length)`, where each entry is a sequence of integers. It can embed sequences of variable lengths. You could feed into the embedding layer above batches with shapes `(32, 10)` (batch of 32 sequences of length 10) or `(64, 15)` (batch of 64 sequences of length 15).\n",
    "\n",
    "The returned tensor has one more axis than the input, the embedding vectors are aligned along the new last axis. Pass it a `(2, 3)` input batch and the output is `(2, 3, N)`\n"
   ]
  },
  {
   "cell_type": "code",
   "execution_count": 11,
   "metadata": {
    "execution": {
     "iopub.execute_input": "2022-10-19T22:25:47.058467Z",
     "iopub.status.busy": "2022-10-19T22:25:47.058165Z",
     "iopub.status.idle": "2022-10-19T22:25:47.064696Z",
     "shell.execute_reply": "2022-10-19T22:25:47.063923Z"
    },
    "id": "vwSYepRjyRGy"
   },
   "outputs": [
    {
     "data": {
      "text/plain": [
       "TensorShape([2, 3, 5])"
      ]
     },
     "execution_count": 11,
     "metadata": {},
     "output_type": "execute_result"
    }
   ],
   "source": [
    "result = embedding_layer(tf.constant([[0, 1, 2], [3, 4, 5]]))\n",
    "result.shape"
   ]
  },
  {
   "cell_type": "markdown",
   "metadata": {
    "id": "WGQp2N92yOyB"
   },
   "source": [
    "When given a batch of sequences as input, an embedding layer returns a 3D floating point tensor, of shape `(samples, sequence_length, embedding_dimensionality)`. To convert from this sequence of variable length to a fixed representation there are a variety of standard approaches. You could use an RNN, Attention, or pooling layer before passing it to a Dense layer. This workshop uses pooling because it's the simplest. The [Text Classification with an RNN](https://www.tensorflow.org/text/tutorials/text_classification_rnn) tutorial is a good next step."
   ]
  },
  {
   "cell_type": "markdown",
   "metadata": {
    "id": "aGicgV5qT0wh"
   },
   "source": [
    "## Text preprocessing"
   ]
  },
  {
   "cell_type": "markdown",
   "metadata": {
    "id": "N6NZSqIIoU0Y"
   },
   "source": [
    "Next, define the dataset preprocessing steps required for your sentiment classification model. Initialize a TextVectorization layer with the desired parameters to vectorize movie reviews. You can learn more about using this layer in the [Text Classification](https://www.tensorflow.org/tutorials/keras/text_classification) tutorial."
   ]
  },
  {
   "cell_type": "code",
   "execution_count": 12,
   "metadata": {
    "execution": {
     "iopub.execute_input": "2022-10-19T22:25:47.069634Z",
     "iopub.status.busy": "2022-10-19T22:25:47.069365Z",
     "iopub.status.idle": "2022-10-19T22:25:48.809627Z",
     "shell.execute_reply": "2022-10-19T22:25:48.808655Z"
    },
    "id": "2MlsXzo-ZlfK"
   },
   "outputs": [
    {
     "name": "stderr",
     "output_type": "stream",
     "text": [
      "2025-02-23 14:15:38.986858: I tensorflow/core/common_runtime/executor.cc:1197] [/device:CPU:0] (DEBUG INFO) Executor start aborting (this does not indicate an error and you can ignore this message): INVALID_ARGUMENT: You must feed a value for placeholder tensor 'Placeholder/_0' with dtype string and shape [20000]\n",
      "\t [[{{node Placeholder/_0}}]]\n",
      "2025-02-23 14:15:38.987664: I tensorflow/core/common_runtime/executor.cc:1197] [/device:CPU:0] (DEBUG INFO) Executor start aborting (this does not indicate an error and you can ignore this message): INVALID_ARGUMENT: You must feed a value for placeholder tensor 'Placeholder/_4' with dtype int32 and shape [20000]\n",
      "\t [[{{node Placeholder/_4}}]]\n"
     ]
    }
   ],
   "source": [
    "# Create a custom standardization function to strip HTML break tags '<br />'.\n",
    "# re.escape(pattern)\n",
    "# Escape special characters in pattern. This is useful if you want to match \n",
    "# an arbitrary literal string that may have regular expression metacharacters in it.\n",
    "def custom_standardization(input_data):\n",
    "  lowercase = tf.strings.lower(input_data)\n",
    "  stripped_html = tf.strings.regex_replace(lowercase, '<br />', ' ')\n",
    "  return tf.strings.regex_replace(stripped_html,\n",
    "                                  '[%s]' % re.escape(string.punctuation), '')\n",
    "\n",
    "\n",
    "# Vocabulary size and number of words in a sequence.\n",
    "vocab_size = 10000\n",
    "sequence_length = 100\n",
    "\n",
    "# Use the text vectorization layer to normalize, split, and map strings to\n",
    "# integers. Note that the layer uses the custom standardization defined above.\n",
    "# Set maximum_sequence length as all samples are not of the same length.\n",
    "vectorize_layer = TextVectorization(\n",
    "    standardize=custom_standardization,\n",
    "    max_tokens=vocab_size,\n",
    "    output_mode='int',\n",
    "    output_sequence_length=sequence_length)\n",
    "\n",
    "# Make a text-only dataset (no labels) and call adapt to build the vocabulary.\n",
    "text_ds = train_ds.map(lambda x, y: x)\n",
    "vectorize_layer.adapt(text_ds)"
   ]
  },
  {
   "cell_type": "code",
   "execution_count": 13,
   "metadata": {},
   "outputs": [
    {
     "data": {
      "text/plain": [
       "'!\"#$%&\\'()*+,-./:;<=>?@[\\\\]^_`{|}~'"
      ]
     },
     "execution_count": 13,
     "metadata": {},
     "output_type": "execute_result"
    }
   ],
   "source": [
    "string.punctuation"
   ]
  },
  {
   "cell_type": "markdown",
   "metadata": {
    "id": "zI9_wLIiWO8Z"
   },
   "source": [
    "## Create a classification model\n",
    "\n",
    "Use the [Keras Sequential API](https://www.tensorflow.org/guide/keras/sequential_model) to define the sentiment classification model. In this case it is a \"Continuous bag of words\" style model.\n",
    "* The [`TextVectorization`](https://www.tensorflow.org/api_docs/python/tf/keras/layers/experimental/preprocessing/TextVectorization) layer transforms strings into vocabulary indices. You have already initialized `vectorize_layer` as a TextVectorization layer and built its vocabulary by calling `adapt` on `text_ds`. Now vectorize_layer can be used as the first layer of your end-to-end classification model, feeding transformed strings into the Embedding layer.\n",
    "* The [`Embedding`](https://www.tensorflow.org/api_docs/python/tf/keras/layers/Embedding) layer takes the integer-encoded vocabulary and looks up the embedding vector for each word-index. These vectors are learned as the model trains. The vectors add a dimension to the output array. The resulting dimensions are: `(batch, sequence, embedding)`.\n",
    "\n",
    "* The [`GlobalAveragePooling1D`](https://www.tensorflow.org/api_docs/python/tf/keras/layers/GlobalAveragePooling1D) layer returns a fixed-length output vector for each example by averaging over the sequence dimension. This allows the model to handle input of variable length, in the simplest way possible.\n",
    "\n",
    "* The fixed-length output vector is piped through a fully-connected ([`Dense`](https://www.tensorflow.org/api_docs/python/tf/keras/layers/Dense)) layer with 16 hidden units.\n",
    "\n",
    "* The last layer is densely connected with a single output node. \n",
    "\n",
    "Caution: This model doesn't use masking, so the zero-padding is used as part of the input and hence the padding length may affect the output.  To fix this, see the [masking and padding guide](https://www.tensorflow.org/guide/keras/masking_and_padding)."
   ]
  },
  {
   "cell_type": "code",
   "execution_count": 27,
   "metadata": {
    "execution": {
     "iopub.execute_input": "2022-10-19T22:25:48.814659Z",
     "iopub.status.busy": "2022-10-19T22:25:48.814369Z",
     "iopub.status.idle": "2022-10-19T22:25:48.902705Z",
     "shell.execute_reply": "2022-10-19T22:25:48.901760Z"
    },
    "id": "pHLcFtn5Wsqj"
   },
   "outputs": [],
   "source": [
    "embedding_dim=16\n",
    "\n",
    "model = Sequential([\n",
    "  vectorize_layer,\n",
    "  Embedding(vocab_size, embedding_dim, name=\"embedding\"),\n",
    "  GlobalAveragePooling1D(),\n",
    "  # Dense(16, activation='relu'),\n",
    "  Dense(1)\n",
    "])"
   ]
  },
  {
   "cell_type": "markdown",
   "metadata": {
    "id": "JjLNgKO7W2fe"
   },
   "source": [
    "## Compile and train the model"
   ]
  },
  {
   "cell_type": "markdown",
   "metadata": {
    "id": "jpX9etB6IOQd"
   },
   "source": [
    "You will use [TensorBoard](https://www.tensorflow.org/tensorboard) to visualize metrics including loss and accuracy. Create a `tf.keras.callbacks.TensorBoard`."
   ]
  },
  {
   "cell_type": "code",
   "execution_count": 28,
   "metadata": {
    "execution": {
     "iopub.execute_input": "2022-10-19T22:25:48.907510Z",
     "iopub.status.busy": "2022-10-19T22:25:48.907203Z",
     "iopub.status.idle": "2022-10-19T22:25:48.911777Z",
     "shell.execute_reply": "2022-10-19T22:25:48.910859Z"
    },
    "id": "W4Hg3IHFt4Px"
   },
   "outputs": [],
   "source": [
    "tensorboard_callback = tf.keras.callbacks.TensorBoard(log_dir=\"logs\")"
   ]
  },
  {
   "cell_type": "markdown",
   "metadata": {
    "id": "7OrKAKAKIbuH"
   },
   "source": [
    "Compile and train the model using the `Adam` optimizer and `BinaryCrossentropy` loss. "
   ]
  },
  {
   "cell_type": "code",
   "execution_count": 29,
   "metadata": {
    "execution": {
     "iopub.execute_input": "2022-10-19T22:25:48.916573Z",
     "iopub.status.busy": "2022-10-19T22:25:48.915730Z",
     "iopub.status.idle": "2022-10-19T22:25:48.930697Z",
     "shell.execute_reply": "2022-10-19T22:25:48.929808Z"
    },
    "id": "lCUgdP69Wzix"
   },
   "outputs": [],
   "source": [
    "model.compile(optimizer='adam',\n",
    "              loss=tf.keras.losses.BinaryCrossentropy(from_logits=True),\n",
    "              metrics=['accuracy'])"
   ]
  },
  {
   "cell_type": "code",
   "execution_count": 30,
   "metadata": {
    "execution": {
     "iopub.execute_input": "2022-10-19T22:25:48.934511Z",
     "iopub.status.busy": "2022-10-19T22:25:48.934215Z",
     "iopub.status.idle": "2022-10-19T22:26:09.479929Z",
     "shell.execute_reply": "2022-10-19T22:26:09.478961Z"
    },
    "id": "5mQehiQyv8rP"
   },
   "outputs": [
    {
     "name": "stdout",
     "output_type": "stream",
     "text": [
      "Epoch 1/15\n",
      "20/20 [==============================] - 4s 148ms/step - loss: 0.6922 - accuracy: 0.5028 - val_loss: 0.6907 - val_accuracy: 0.4886\n",
      "Epoch 2/15\n",
      "20/20 [==============================] - 2s 107ms/step - loss: 0.6890 - accuracy: 0.5028 - val_loss: 0.6874 - val_accuracy: 0.4886\n",
      "Epoch 3/15\n",
      "20/20 [==============================] - 3s 143ms/step - loss: 0.6852 - accuracy: 0.5028 - val_loss: 0.6833 - val_accuracy: 0.4886\n",
      "Epoch 4/15\n",
      "20/20 [==============================] - 2s 106ms/step - loss: 0.6806 - accuracy: 0.5028 - val_loss: 0.6785 - val_accuracy: 0.4886\n",
      "Epoch 5/15\n",
      "20/20 [==============================] - 2s 103ms/step - loss: 0.6752 - accuracy: 0.5028 - val_loss: 0.6728 - val_accuracy: 0.4886\n",
      "Epoch 6/15\n",
      "20/20 [==============================] - 2s 116ms/step - loss: 0.6689 - accuracy: 0.5028 - val_loss: 0.6665 - val_accuracy: 0.4886\n",
      "Epoch 7/15\n",
      "20/20 [==============================] - 2s 115ms/step - loss: 0.6620 - accuracy: 0.5028 - val_loss: 0.6596 - val_accuracy: 0.4886\n",
      "Epoch 8/15\n",
      "20/20 [==============================] - 2s 106ms/step - loss: 0.6544 - accuracy: 0.5031 - val_loss: 0.6522 - val_accuracy: 0.4890\n",
      "Epoch 9/15\n",
      "20/20 [==============================] - 2s 106ms/step - loss: 0.6462 - accuracy: 0.5050 - val_loss: 0.6444 - val_accuracy: 0.4928\n",
      "Epoch 10/15\n",
      "20/20 [==============================] - 2s 107ms/step - loss: 0.6376 - accuracy: 0.5107 - val_loss: 0.6362 - val_accuracy: 0.5010\n",
      "Epoch 11/15\n",
      "20/20 [==============================] - 2s 112ms/step - loss: 0.6286 - accuracy: 0.5228 - val_loss: 0.6279 - val_accuracy: 0.5164\n",
      "Epoch 12/15\n",
      "20/20 [==============================] - 2s 110ms/step - loss: 0.6193 - accuracy: 0.5416 - val_loss: 0.6193 - val_accuracy: 0.5376\n",
      "Epoch 13/15\n",
      "20/20 [==============================] - 2s 122ms/step - loss: 0.6097 - accuracy: 0.5634 - val_loss: 0.6106 - val_accuracy: 0.5574\n",
      "Epoch 14/15\n",
      "20/20 [==============================] - 2s 114ms/step - loss: 0.6000 - accuracy: 0.5846 - val_loss: 0.6019 - val_accuracy: 0.5768\n",
      "Epoch 15/15\n",
      "20/20 [==============================] - 2s 116ms/step - loss: 0.5903 - accuracy: 0.6063 - val_loss: 0.5932 - val_accuracy: 0.5956\n"
     ]
    },
    {
     "data": {
      "text/plain": [
       "<keras.callbacks.History at 0x1723daca0>"
      ]
     },
     "execution_count": 30,
     "metadata": {},
     "output_type": "execute_result"
    }
   ],
   "source": [
    "model.fit(\n",
    "    train_ds,\n",
    "    validation_data=val_ds,\n",
    "    epochs=15,\n",
    "    callbacks=[tensorboard_callback])"
   ]
  },
  {
   "cell_type": "markdown",
   "metadata": {
    "id": "1wYnVedSPfmX"
   },
   "source": [
    "With this approach the model reaches a validation accuracy of around 78% (note that the model is overfitting since training accuracy is higher).\n",
    "\n",
    "Note: Your results may be a bit different, depending on how weights were randomly initialized before training the embedding layer. \n",
    "\n",
    "You can look into the model summary to learn more about each layer of the model."
   ]
  },
  {
   "cell_type": "code",
   "execution_count": 31,
   "metadata": {
    "execution": {
     "iopub.execute_input": "2022-10-19T22:26:09.484420Z",
     "iopub.status.busy": "2022-10-19T22:26:09.484120Z",
     "iopub.status.idle": "2022-10-19T22:26:09.503435Z",
     "shell.execute_reply": "2022-10-19T22:26:09.502649Z"
    },
    "id": "mDCgjWyq_0dc"
   },
   "outputs": [
    {
     "name": "stdout",
     "output_type": "stream",
     "text": [
      "Model: \"sequential_1\"\n",
      "_________________________________________________________________\n",
      " Layer (type)                Output Shape              Param #   \n",
      "=================================================================\n",
      " text_vectorization (TextVec  (None, 100)              0         \n",
      " torization)                                                     \n",
      "                                                                 \n",
      " embedding (Embedding)       (None, 100, 16)           160000    \n",
      "                                                                 \n",
      " global_average_pooling1d_1   (None, 16)               0         \n",
      " (GlobalAveragePooling1D)                                        \n",
      "                                                                 \n",
      " dense_2 (Dense)             (None, 1)                 17        \n",
      "                                                                 \n",
      "=================================================================\n",
      "Total params: 160,017\n",
      "Trainable params: 160,017\n",
      "Non-trainable params: 0\n",
      "_________________________________________________________________\n"
     ]
    }
   ],
   "source": [
    "model.summary()"
   ]
  },
  {
   "cell_type": "markdown",
   "metadata": {
    "id": "hiQbOJZ2WBFY"
   },
   "source": [
    "Visualize the model metrics in TensorBoard."
   ]
  },
  {
   "cell_type": "code",
   "execution_count": 32,
   "metadata": {
    "id": "_Uanp2YH8RzU"
   },
   "outputs": [
    {
     "name": "stdout",
     "output_type": "stream",
     "text": [
      "The tensorboard extension is already loaded. To reload it, use:\n",
      "  %reload_ext tensorboard\n"
     ]
    },
    {
     "data": {
      "text/plain": [
       "Reusing TensorBoard on port 6006 (pid 42675), started 0:04:13 ago. (Use '!kill 42675' to kill it.)"
      ]
     },
     "metadata": {},
     "output_type": "display_data"
    },
    {
     "data": {
      "text/html": [
       "\n",
       "      <iframe id=\"tensorboard-frame-306bcb250291aa71\" width=\"100%\" height=\"800\" frameborder=\"0\">\n",
       "      </iframe>\n",
       "      <script>\n",
       "        (function() {\n",
       "          const frame = document.getElementById(\"tensorboard-frame-306bcb250291aa71\");\n",
       "          const url = new URL(\"http://localhost\");\n",
       "          const port = 6006;\n",
       "          if (port) {\n",
       "            url.port = port;\n",
       "          }\n",
       "          frame.src = url;\n",
       "        })();\n",
       "      </script>\n",
       "    "
      ],
      "text/plain": [
       "<IPython.core.display.HTML object>"
      ]
     },
     "metadata": {},
     "output_type": "display_data"
    }
   ],
   "source": [
    "#docs_infra: no_execute\n",
    "%load_ext tensorboard\n",
    "%tensorboard --logdir logs"
   ]
  },
  {
   "cell_type": "markdown",
   "metadata": {
    "id": "KCoA6qwqP836"
   },
   "source": [
    "## Retrieve the trained word embeddings and save them to disk\n",
    "\n",
    "Next, retrieve the word embeddings learned during training. The embeddings are weights of the Embedding layer in the model. The weights matrix is of shape `(vocab_size, embedding_dimension)`."
   ]
  },
  {
   "cell_type": "markdown",
   "metadata": {
    "id": "Zp5rv01WG2YA"
   },
   "source": [
    "Obtain the weights from the model using `get_layer()` and `get_weights()`. The `get_vocabulary()` function provides the vocabulary to build a metadata file with one token per line. "
   ]
  },
  {
   "cell_type": "code",
   "execution_count": 33,
   "metadata": {
    "execution": {
     "iopub.execute_input": "2022-10-19T22:26:09.512459Z",
     "iopub.status.busy": "2022-10-19T22:26:09.512132Z",
     "iopub.status.idle": "2022-10-19T22:26:09.535747Z",
     "shell.execute_reply": "2022-10-19T22:26:09.534770Z"
    },
    "id": "_Uamp1YH8RzU"
   },
   "outputs": [],
   "source": [
    "weights = model.get_layer('embedding').get_weights()[0]\n",
    "vocab = vectorize_layer.get_vocabulary()"
   ]
  },
  {
   "cell_type": "code",
   "execution_count": 34,
   "metadata": {},
   "outputs": [
    {
     "data": {
      "text/plain": [
       "(10000, 16)"
      ]
     },
     "execution_count": 34,
     "metadata": {},
     "output_type": "execute_result"
    }
   ],
   "source": [
    "weights.shape"
   ]
  },
  {
   "cell_type": "code",
   "execution_count": 35,
   "metadata": {},
   "outputs": [
    {
     "data": {
      "text/plain": [
       "array([[-0.03929426, -0.05911263,  0.05224285, ..., -0.06409279,\n",
       "         0.12472145, -0.02968534],\n",
       "       [ 0.01137472, -0.0127078 , -0.00167212, ..., -0.04895122,\n",
       "         0.05423801, -0.0610299 ],\n",
       "       [-0.00690742, -0.0196053 ,  0.06455944, ..., -0.02993433,\n",
       "         0.00394067, -0.05279692],\n",
       "       ...,\n",
       "       [ 0.14737263,  0.09659169, -0.11797239, ...,  0.13506708,\n",
       "        -0.10614745,  0.15887061],\n",
       "       [-0.09137654, -0.11058755,  0.13619614, ..., -0.11267492,\n",
       "         0.11225344, -0.08220033],\n",
       "       [ 0.0507882 , -0.01585073, -0.05828961, ...,  0.04734777,\n",
       "        -0.04065931,  0.05877816]], dtype=float32)"
      ]
     },
     "execution_count": 35,
     "metadata": {},
     "output_type": "execute_result"
    }
   ],
   "source": [
    "weights"
   ]
  },
  {
   "cell_type": "code",
   "execution_count": 36,
   "metadata": {},
   "outputs": [
    {
     "data": {
      "text/plain": [
       "10000"
      ]
     },
     "execution_count": 36,
     "metadata": {},
     "output_type": "execute_result"
    }
   ],
   "source": [
    "len(vocab)"
   ]
  },
  {
   "cell_type": "code",
   "execution_count": 37,
   "metadata": {},
   "outputs": [
    {
     "data": {
      "text/plain": [
       "['',\n",
       " '[UNK]',\n",
       " 'the',\n",
       " 'and',\n",
       " 'a',\n",
       " 'of',\n",
       " 'to',\n",
       " 'is',\n",
       " 'in',\n",
       " 'it',\n",
       " 'i',\n",
       " 'this',\n",
       " 'that',\n",
       " 'was',\n",
       " 'as',\n",
       " 'with',\n",
       " 'for',\n",
       " 'movie',\n",
       " 'but',\n",
       " 'film',\n",
       " 'on',\n",
       " 'not',\n",
       " 'you',\n",
       " 'are',\n",
       " 'his',\n",
       " 'have',\n",
       " 'be',\n",
       " 'he',\n",
       " 'one',\n",
       " 'its',\n",
       " 'at',\n",
       " 'all',\n",
       " 'by',\n",
       " 'an',\n",
       " 'they',\n",
       " 'from',\n",
       " 'who',\n",
       " 'so',\n",
       " 'like',\n",
       " 'her',\n",
       " 'just',\n",
       " 'or',\n",
       " 'about',\n",
       " 'has',\n",
       " 'out',\n",
       " 'if',\n",
       " 'some',\n",
       " 'there',\n",
       " 'what',\n",
       " 'good',\n",
       " 'more',\n",
       " 'when',\n",
       " 'very',\n",
       " 'even',\n",
       " 'she',\n",
       " 'up',\n",
       " 'my',\n",
       " 'no',\n",
       " 'would',\n",
       " 'time',\n",
       " 'only',\n",
       " 'which',\n",
       " 'really',\n",
       " 'story',\n",
       " 'their',\n",
       " 'see',\n",
       " 'were',\n",
       " 'had',\n",
       " 'can',\n",
       " 'me',\n",
       " 'we',\n",
       " 'than',\n",
       " 'much',\n",
       " 'well',\n",
       " 'been',\n",
       " 'will',\n",
       " 'get',\n",
       " 'people',\n",
       " 'bad',\n",
       " 'also',\n",
       " 'other',\n",
       " 'do',\n",
       " 'into',\n",
       " 'great',\n",
       " 'first',\n",
       " 'because',\n",
       " 'how',\n",
       " 'most',\n",
       " 'him',\n",
       " 'dont',\n",
       " 'made',\n",
       " 'movies',\n",
       " 'then',\n",
       " 'them',\n",
       " 'way',\n",
       " 'films',\n",
       " 'make',\n",
       " 'could',\n",
       " 'any',\n",
       " 'after',\n",
       " 'too',\n",
       " 'characters',\n",
       " 'think',\n",
       " 'watch',\n",
       " 'being',\n",
       " 'two',\n",
       " 'many',\n",
       " 'seen',\n",
       " 'character',\n",
       " 'plot',\n",
       " 'little',\n",
       " 'never',\n",
       " 'acting',\n",
       " 'where',\n",
       " 'best',\n",
       " 'did',\n",
       " 'love',\n",
       " 'life',\n",
       " 'know',\n",
       " 'show',\n",
       " 'does',\n",
       " 'ever',\n",
       " 'your',\n",
       " 'better',\n",
       " 'over',\n",
       " 'end',\n",
       " 'still',\n",
       " 'off',\n",
       " 'these',\n",
       " 'here',\n",
       " 'scene',\n",
       " 'man',\n",
       " 'say',\n",
       " 'why',\n",
       " 'while',\n",
       " 'scenes',\n",
       " 'such',\n",
       " 'go',\n",
       " 'something',\n",
       " 'should',\n",
       " 'through',\n",
       " 'back',\n",
       " 'im',\n",
       " 'those',\n",
       " 'real',\n",
       " 'watching',\n",
       " 'doesnt',\n",
       " 'years',\n",
       " 'now',\n",
       " 'thing',\n",
       " 'though',\n",
       " 'another',\n",
       " 'actors',\n",
       " 'didnt',\n",
       " 'before',\n",
       " 'actually',\n",
       " 'nothing',\n",
       " 'new',\n",
       " 'funny',\n",
       " 'makes',\n",
       " 'work',\n",
       " 'find',\n",
       " 'look',\n",
       " 'same',\n",
       " 'old',\n",
       " 'going',\n",
       " 'part',\n",
       " 'few',\n",
       " 'lot',\n",
       " 'again',\n",
       " 'us',\n",
       " 'every',\n",
       " 'director',\n",
       " 'cast',\n",
       " 'want',\n",
       " 'thats',\n",
       " 'cant',\n",
       " 'quite',\n",
       " 'seems',\n",
       " 'young',\n",
       " 'things',\n",
       " 'pretty',\n",
       " 'world',\n",
       " 'around',\n",
       " 'down',\n",
       " 'however',\n",
       " 'got',\n",
       " 'fact',\n",
       " 'take',\n",
       " 'enough',\n",
       " 'both',\n",
       " 'own',\n",
       " 'give',\n",
       " 'between',\n",
       " 'original',\n",
       " 'horror',\n",
       " 'may',\n",
       " 'thought',\n",
       " 'series',\n",
       " 'ive',\n",
       " 'big',\n",
       " 'always',\n",
       " 'without',\n",
       " 'gets',\n",
       " 'isnt',\n",
       " 'right',\n",
       " 'long',\n",
       " 'role',\n",
       " 'point',\n",
       " 'almost',\n",
       " 'times',\n",
       " 'action',\n",
       " 'interesting',\n",
       " 'come',\n",
       " 'saw',\n",
       " 'theres',\n",
       " 'least',\n",
       " 'whole',\n",
       " 'done',\n",
       " 'must',\n",
       " 'comedy',\n",
       " 'bit',\n",
       " 'family',\n",
       " 'might',\n",
       " 'guy',\n",
       " 'minutes',\n",
       " 'music',\n",
       " 'anything',\n",
       " 'script',\n",
       " 'last',\n",
       " 'hes',\n",
       " 'far',\n",
       " 'since',\n",
       " 'feel',\n",
       " 'performance',\n",
       " 'probably',\n",
       " 'am',\n",
       " 'yet',\n",
       " 'sure',\n",
       " 'away',\n",
       " 'kind',\n",
       " 'rather',\n",
       " 'fun',\n",
       " 'worst',\n",
       " 'tv',\n",
       " 'woman',\n",
       " 'girl',\n",
       " 'played',\n",
       " 'making',\n",
       " 'anyone',\n",
       " 'found',\n",
       " 'each',\n",
       " 'having',\n",
       " 'comes',\n",
       " 'course',\n",
       " 'believe',\n",
       " 'our',\n",
       " 'day',\n",
       " 'although',\n",
       " 'goes',\n",
       " 'trying',\n",
       " 'shows',\n",
       " 'looks',\n",
       " 'especially',\n",
       " 'place',\n",
       " 'hard',\n",
       " 'put',\n",
       " 'different',\n",
       " 'wasnt',\n",
       " 'sense',\n",
       " 'maybe',\n",
       " 'once',\n",
       " 'ending',\n",
       " 'worth',\n",
       " 'reason',\n",
       " 'money',\n",
       " 'true',\n",
       " 'screen',\n",
       " 'set',\n",
       " 'job',\n",
       " 'main',\n",
       " 'looking',\n",
       " 'everything',\n",
       " 'watched',\n",
       " 'book',\n",
       " 'someone',\n",
       " 'dvd',\n",
       " 'said',\n",
       " 'later',\n",
       " 'takes',\n",
       " 'actor',\n",
       " 'play',\n",
       " 'plays',\n",
       " 'three',\n",
       " 'during',\n",
       " 'audience',\n",
       " 'together',\n",
       " 'instead',\n",
       " '2',\n",
       " 'effects',\n",
       " 'seem',\n",
       " 'version',\n",
       " '10',\n",
       " 'himself',\n",
       " 'everyone',\n",
       " 'seeing',\n",
       " 'night',\n",
       " 'special',\n",
       " 'left',\n",
       " 'beautiful',\n",
       " 'excellent',\n",
       " 'john',\n",
       " 'american',\n",
       " 'idea',\n",
       " 'house',\n",
       " 'nice',\n",
       " 'simply',\n",
       " 'shot',\n",
       " 'youre',\n",
       " 'high',\n",
       " 'kids',\n",
       " 'wife',\n",
       " 'black',\n",
       " 'else',\n",
       " 'less',\n",
       " 'read',\n",
       " 'war',\n",
       " 'fan',\n",
       " 'help',\n",
       " 'completely',\n",
       " 'year',\n",
       " 'second',\n",
       " 'star',\n",
       " 'friends',\n",
       " 'death',\n",
       " 'used',\n",
       " 'rest',\n",
       " 'try',\n",
       " 'mind',\n",
       " 'home',\n",
       " 'poor',\n",
       " 'men',\n",
       " 'classic',\n",
       " 'either',\n",
       " 'use',\n",
       " 'need',\n",
       " 'performances',\n",
       " 'given',\n",
       " 'wrong',\n",
       " 'hollywood',\n",
       " 'short',\n",
       " 'enjoy',\n",
       " 'until',\n",
       " 'father',\n",
       " 'boring',\n",
       " 'along',\n",
       " 'half',\n",
       " 'women',\n",
       " 'truly',\n",
       " 'next',\n",
       " 'dead',\n",
       " 'line',\n",
       " 'tell',\n",
       " 'start',\n",
       " 'came',\n",
       " 'production',\n",
       " 'remember',\n",
       " 'couple',\n",
       " 'wonderful',\n",
       " 'recommend',\n",
       " 'mean',\n",
       " 'others',\n",
       " 'awful',\n",
       " 'getting',\n",
       " 'stupid',\n",
       " 'full',\n",
       " 'face',\n",
       " 'let',\n",
       " 'terrible',\n",
       " 'understand',\n",
       " 'playing',\n",
       " 'perhaps',\n",
       " 'moments',\n",
       " 'camera',\n",
       " 'doing',\n",
       " 'sex',\n",
       " 'gives',\n",
       " 'often',\n",
       " 'definitely',\n",
       " 'itself',\n",
       " 'keep',\n",
       " 'episode',\n",
       " 'small',\n",
       " 'video',\n",
       " 'name',\n",
       " 'early',\n",
       " 'become',\n",
       " 'dialogue',\n",
       " 'school',\n",
       " 'person',\n",
       " 'perfect',\n",
       " 'lines',\n",
       " 'lost',\n",
       " 'stars',\n",
       " 'supposed',\n",
       " 'human',\n",
       " 'top',\n",
       " 'liked',\n",
       " 'sort',\n",
       " 'yes',\n",
       " 'felt',\n",
       " 'finally',\n",
       " 'case',\n",
       " 'title',\n",
       " 'couldnt',\n",
       " 'evil',\n",
       " 'entire',\n",
       " 'went',\n",
       " 'piece',\n",
       " 'problem',\n",
       " 'hope',\n",
       " 'live',\n",
       " 'written',\n",
       " 'cinema',\n",
       " 'absolutely',\n",
       " 'waste',\n",
       " 'budget',\n",
       " 'against',\n",
       " 'shes',\n",
       " 'picture',\n",
       " 'worse',\n",
       " 'fans',\n",
       " 'style',\n",
       " 'head',\n",
       " 'loved',\n",
       " 'certainly',\n",
       " 'white',\n",
       " 'entertaining',\n",
       " 'several',\n",
       " 'based',\n",
       " 'overall',\n",
       " 'direction',\n",
       " 'beginning',\n",
       " 'killer',\n",
       " 'example',\n",
       " 'becomes',\n",
       " 'boy',\n",
       " 'mother',\n",
       " 'id',\n",
       " 'oh',\n",
       " 'guys',\n",
       " 'care',\n",
       " 'seemed',\n",
       " 'mr',\n",
       " 'dark',\n",
       " 'turn',\n",
       " 'throughout',\n",
       " '3',\n",
       " '\\x96',\n",
       " 'drama',\n",
       " 'unfortunately',\n",
       " 'lives',\n",
       " 'despite',\n",
       " 'already',\n",
       " 'amazing',\n",
       " 'laugh',\n",
       " 'wanted',\n",
       " 'final',\n",
       " 'history',\n",
       " 'children',\n",
       " 'friend',\n",
       " 'low',\n",
       " 'fine',\n",
       " 'works',\n",
       " 'tries',\n",
       " 'wont',\n",
       " 'sound',\n",
       " 'guess',\n",
       " '1',\n",
       " 'totally',\n",
       " 'girls',\n",
       " 'youll',\n",
       " 'act',\n",
       " 'lead',\n",
       " 'humor',\n",
       " 'under',\n",
       " 'writing',\n",
       " 'past',\n",
       " 'wants',\n",
       " 'theyre',\n",
       " 'days',\n",
       " 'called',\n",
       " 'turns',\n",
       " 'behind',\n",
       " 'able',\n",
       " 'favorite',\n",
       " 'starts',\n",
       " 'enjoyed',\n",
       " 'quality',\n",
       " 'michael',\n",
       " 'flick',\n",
       " 'gave',\n",
       " 'game',\n",
       " 'child',\n",
       " 'viewer',\n",
       " 'soon',\n",
       " 'side',\n",
       " 'themselves',\n",
       " 'kill',\n",
       " 'genre',\n",
       " 'parts',\n",
       " 'sometimes',\n",
       " 'town',\n",
       " 'eyes',\n",
       " 'son',\n",
       " 'car',\n",
       " 'ones',\n",
       " 'brilliant',\n",
       " 'heart',\n",
       " 'thinking',\n",
       " 'expect',\n",
       " 'art',\n",
       " 'stuff',\n",
       " 'horrible',\n",
       " 'feeling',\n",
       " 'stories',\n",
       " 'late',\n",
       " 'etc',\n",
       " 'directed',\n",
       " 'decent',\n",
       " 'obviously',\n",
       " 'ill',\n",
       " 'actress',\n",
       " 'close',\n",
       " 'says',\n",
       " 'fight',\n",
       " 'moment',\n",
       " 'anyway',\n",
       " 'happens',\n",
       " 'killed',\n",
       " 'blood',\n",
       " 'highly',\n",
       " 'city',\n",
       " 'roles',\n",
       " 'heard',\n",
       " 'myself',\n",
       " 'cannot',\n",
       " 'run',\n",
       " 'hour',\n",
       " 'took',\n",
       " 'matter',\n",
       " 'particularly',\n",
       " 'leave',\n",
       " 'hand',\n",
       " 'wouldnt',\n",
       " 'hell',\n",
       " 'happened',\n",
       " 'kid',\n",
       " 'extremely',\n",
       " 'except',\n",
       " 'wonder',\n",
       " 'involved',\n",
       " 'attempt',\n",
       " 'chance',\n",
       " 'strong',\n",
       " 'police',\n",
       " 'obvious',\n",
       " 'told',\n",
       " 'happen',\n",
       " 'complete',\n",
       " 'group',\n",
       " 'coming',\n",
       " 'lack',\n",
       " 'violence',\n",
       " 'james',\n",
       " 'alone',\n",
       " 'voice',\n",
       " 'including',\n",
       " 'daughter',\n",
       " 'type',\n",
       " 'living',\n",
       " 'experience',\n",
       " 'murder',\n",
       " 'please',\n",
       " 'ago',\n",
       " 'age',\n",
       " 'looked',\n",
       " 'yourself',\n",
       " 'interest',\n",
       " 'god',\n",
       " 'score',\n",
       " 'ok',\n",
       " 'save',\n",
       " 'number',\n",
       " 'shown',\n",
       " 'stop',\n",
       " 'career',\n",
       " 'ends',\n",
       " 'annoying',\n",
       " 'none',\n",
       " 'lets',\n",
       " 'hilarious',\n",
       " 'usually',\n",
       " 'simple',\n",
       " 'taken',\n",
       " 'slow',\n",
       " 'crap',\n",
       " 'cinematography',\n",
       " 'usual',\n",
       " 'scary',\n",
       " 'exactly',\n",
       " 'possible',\n",
       " 'mostly',\n",
       " 'david',\n",
       " 'song',\n",
       " 'opening',\n",
       " 'sad',\n",
       " 'released',\n",
       " 'across',\n",
       " 'seriously',\n",
       " 'whose',\n",
       " 'known',\n",
       " 'started',\n",
       " 'relationship',\n",
       " 'hours',\n",
       " 'episodes',\n",
       " 'musical',\n",
       " 'finds',\n",
       " 'hit',\n",
       " 'serious',\n",
       " 'cut',\n",
       " 'english',\n",
       " 'cool',\n",
       " 'huge',\n",
       " 'brother',\n",
       " 'reality',\n",
       " 'jokes',\n",
       " 'shots',\n",
       " 'opinion',\n",
       " 'today',\n",
       " 'change',\n",
       " 'order',\n",
       " 'gore',\n",
       " 'robert',\n",
       " 'wish',\n",
       " 'running',\n",
       " 'hero',\n",
       " 'body',\n",
       " 'somewhat',\n",
       " 'major',\n",
       " 'ridiculous',\n",
       " 'view',\n",
       " 'saying',\n",
       " '4',\n",
       " 'taking',\n",
       " 'female',\n",
       " 'events',\n",
       " 'power',\n",
       " 'knew',\n",
       " 'level',\n",
       " 'happy',\n",
       " 'call',\n",
       " 'directors',\n",
       " 'strange',\n",
       " 'knows',\n",
       " 'talking',\n",
       " 'room',\n",
       " '5',\n",
       " 'king',\n",
       " 'attention',\n",
       " 'turned',\n",
       " 'future',\n",
       " 'supporting',\n",
       " 'documentary',\n",
       " 'apparently',\n",
       " 'sequence',\n",
       " 'novel',\n",
       " 'basically',\n",
       " 'arent',\n",
       " 'talent',\n",
       " 'songs',\n",
       " 'rating',\n",
       " 'clearly',\n",
       " 'husband',\n",
       " 'easily',\n",
       " 'due',\n",
       " 'country',\n",
       " 'words',\n",
       " 'local',\n",
       " 'tells',\n",
       " 'disappointed',\n",
       " 'appears',\n",
       " 'modern',\n",
       " 'british',\n",
       " 'problems',\n",
       " 'viewers',\n",
       " 'falls',\n",
       " 'sets',\n",
       " 'four',\n",
       " 'whether',\n",
       " 'important',\n",
       " 'bring',\n",
       " 'cheap',\n",
       " 'predictable',\n",
       " 'beyond',\n",
       " 'word',\n",
       " 'whats',\n",
       " 'silly',\n",
       " 'review',\n",
       " 'television',\n",
       " 'single',\n",
       " 'light',\n",
       " 'earth',\n",
       " 'needs',\n",
       " 'miss',\n",
       " 'similar',\n",
       " 'comic',\n",
       " 'entertainment',\n",
       " 'add',\n",
       " 'romantic',\n",
       " 'giving',\n",
       " 'enjoyable',\n",
       " 'five',\n",
       " 'jack',\n",
       " 'storyline',\n",
       " 'sequel',\n",
       " 'animation',\n",
       " 'actual',\n",
       " 'within',\n",
       " 'havent',\n",
       " 'begins',\n",
       " 'mention',\n",
       " 'upon',\n",
       " 'talk',\n",
       " 'herself',\n",
       " 'george',\n",
       " 'lots',\n",
       " 'bunch',\n",
       " 'lady',\n",
       " 'feels',\n",
       " 'ways',\n",
       " 'nearly',\n",
       " 'moving',\n",
       " 'surprised',\n",
       " 'using',\n",
       " 'points',\n",
       " 'paul',\n",
       " 'message',\n",
       " 'above',\n",
       " 'dull',\n",
       " 'theme',\n",
       " 'sorry',\n",
       " 'named',\n",
       " 'dialog',\n",
       " 'rock',\n",
       " 'thriller',\n",
       " 'comments',\n",
       " 'ten',\n",
       " 'team',\n",
       " 'richard',\n",
       " 'showing',\n",
       " 'theater',\n",
       " 'stay',\n",
       " 'mystery',\n",
       " 'effort',\n",
       " 'avoid',\n",
       " 'fantastic',\n",
       " 'middle',\n",
       " 'typical',\n",
       " 'somehow',\n",
       " 'parents',\n",
       " 'release',\n",
       " 'doubt',\n",
       " 'york',\n",
       " 'writer',\n",
       " 'fall',\n",
       " 'easy',\n",
       " 'leads',\n",
       " 'tried',\n",
       " 'viewing',\n",
       " 'general',\n",
       " 'tale',\n",
       " 'soundtrack',\n",
       " 'certain',\n",
       " 'sister',\n",
       " 'near',\n",
       " 'kept',\n",
       " 'hate',\n",
       " 'elements',\n",
       " 'among',\n",
       " 'weak',\n",
       " 'eye',\n",
       " 'means',\n",
       " 'filmed',\n",
       " 'working',\n",
       " 'feature',\n",
       " 'famous',\n",
       " 'class',\n",
       " 'check',\n",
       " 'learn',\n",
       " 'clear',\n",
       " 'editing',\n",
       " 'realistic',\n",
       " 'gone',\n",
       " 'figure',\n",
       " 'fast',\n",
       " 'particular',\n",
       " 'material',\n",
       " 'straight',\n",
       " 'sequences',\n",
       " 'form',\n",
       " 'follow',\n",
       " 'season',\n",
       " 'dance',\n",
       " 'brought',\n",
       " 'imagine',\n",
       " 'greatest',\n",
       " 'buy',\n",
       " 'eventually',\n",
       " 'period',\n",
       " 'hear',\n",
       " 'french',\n",
       " 'de',\n",
       " 'zombie',\n",
       " 'red',\n",
       " 'oscar',\n",
       " 'reviews',\n",
       " 'move',\n",
       " 'atmosphere',\n",
       " 'lame',\n",
       " 'forget',\n",
       " 'youve',\n",
       " 'die',\n",
       " 'space',\n",
       " 'deal',\n",
       " 'tom',\n",
       " 'expected',\n",
       " 'whos',\n",
       " 'whatever',\n",
       " 'okay',\n",
       " 'decided',\n",
       " 'truth',\n",
       " 'wait',\n",
       " 'surprise',\n",
       " 'indeed',\n",
       " 'believable',\n",
       " 'became',\n",
       " 'third',\n",
       " 'stand',\n",
       " 'sit',\n",
       " 'nature',\n",
       " 'poorly',\n",
       " 'peter',\n",
       " 'difficult',\n",
       " 'meets',\n",
       " 'possibly',\n",
       " 'note',\n",
       " 'lee',\n",
       " 'subject',\n",
       " 'premise',\n",
       " 'suspense',\n",
       " 'killing',\n",
       " 'writers',\n",
       " 'screenplay',\n",
       " 'leaves',\n",
       " 'romance',\n",
       " 'filmmakers',\n",
       " 'crime',\n",
       " 'nor',\n",
       " 'memorable',\n",
       " 'superb',\n",
       " 'stage',\n",
       " 'japanese',\n",
       " 'average',\n",
       " 'question',\n",
       " 'reading',\n",
       " 'rent',\n",
       " 'needed',\n",
       " '80s',\n",
       " 'sexual',\n",
       " 'write',\n",
       " 'street',\n",
       " 'begin',\n",
       " 'interested',\n",
       " 'situation',\n",
       " 'meet',\n",
       " 'keeps',\n",
       " 'dr',\n",
       " 'older',\n",
       " 'dramatic',\n",
       " 'society',\n",
       " 'boys',\n",
       " 'forced',\n",
       " 'footage',\n",
       " 'earlier',\n",
       " 'otherwise',\n",
       " 'unless',\n",
       " 'minute',\n",
       " 'result',\n",
       " 'emotional',\n",
       " 'badly',\n",
       " 'disney',\n",
       " 'features',\n",
       " 'credits',\n",
       " 'whom',\n",
       " 'shame',\n",
       " 'realize',\n",
       " 'previous',\n",
       " 'joe',\n",
       " 'comment',\n",
       " 'baby',\n",
       " 'total',\n",
       " 'effect',\n",
       " 'development',\n",
       " 'crazy',\n",
       " 'hands',\n",
       " 'mess',\n",
       " 'personal',\n",
       " 'weird',\n",
       " 'laughs',\n",
       " 'towards',\n",
       " 'imdb',\n",
       " 'directing',\n",
       " 'beauty',\n",
       " 'twist',\n",
       " 'incredibly',\n",
       " 'hot',\n",
       " 'sounds',\n",
       " 'male',\n",
       " 'brings',\n",
       " 'ask',\n",
       " 'appear',\n",
       " 'dog',\n",
       " 'background',\n",
       " 'apart',\n",
       " 'cheesy',\n",
       " 'america',\n",
       " 'creepy',\n",
       " 'b',\n",
       " 'remake',\n",
       " 'secret',\n",
       " 'return',\n",
       " 'quickly',\n",
       " 'perfectly',\n",
       " 'unique',\n",
       " 'portrayed',\n",
       " 'plenty',\n",
       " 'open',\n",
       " 'leading',\n",
       " 'fairly',\n",
       " 'scifi',\n",
       " 'plus',\n",
       " 'mark',\n",
       " 'ideas',\n",
       " '70s',\n",
       " 'meant',\n",
       " 'deep',\n",
       " 'worked',\n",
       " 'hardly',\n",
       " 'admit',\n",
       " 'free',\n",
       " '20',\n",
       " 'powerful',\n",
       " 'christmas',\n",
       " 'gay',\n",
       " 'forward',\n",
       " 'dream',\n",
       " 'casting',\n",
       " 'missing',\n",
       " 'setting',\n",
       " 'fantasy',\n",
       " 'fire',\n",
       " 'business',\n",
       " 'reasons',\n",
       " 'masterpiece',\n",
       " 'la',\n",
       " 'fails',\n",
       " 'create',\n",
       " 'attempts',\n",
       " 'unlike',\n",
       " 'joke',\n",
       " 'inside',\n",
       " 'break',\n",
       " 'present',\n",
       " 'potential',\n",
       " 'nudity',\n",
       " 'expecting',\n",
       " 'dumb',\n",
       " 'various',\n",
       " 'battle',\n",
       " 'rich',\n",
       " 'brothers',\n",
       " 'outside',\n",
       " 'success',\n",
       " 'recently',\n",
       " 'western',\n",
       " 'fighting',\n",
       " 'pay',\n",
       " 'spoilers',\n",
       " 'political',\n",
       " ...]"
      ]
     },
     "execution_count": 37,
     "metadata": {},
     "output_type": "execute_result"
    }
   ],
   "source": [
    "vocab"
   ]
  },
  {
   "cell_type": "markdown",
   "metadata": {
    "id": "J8MiCA77X8B8"
   },
   "source": [
    "Write the weights to disk. To use the [Embedding Projector](http://projector.tensorflow.org), you will upload two files in tab separated format: a file of vectors (containing the embedding), and a file of meta data (containing the words)."
   ]
  },
  {
   "cell_type": "code",
   "execution_count": 38,
   "metadata": {
    "execution": {
     "iopub.execute_input": "2022-10-19T22:26:09.540137Z",
     "iopub.status.busy": "2022-10-19T22:26:09.539819Z",
     "iopub.status.idle": "2022-10-19T22:26:09.658449Z",
     "shell.execute_reply": "2022-10-19T22:26:09.657617Z"
    },
    "id": "VLIahl9s53XT"
   },
   "outputs": [],
   "source": [
    "out_v = io.open('vectors.tsv', 'w', encoding='utf-8')\n",
    "out_m = io.open('metadata.tsv', 'w', encoding='utf-8')\n",
    "\n",
    "for index, word in enumerate(vocab):\n",
    "  if index == 0:\n",
    "    continue  # skip 0, it's padding.\n",
    "  vec = weights[index]\n",
    "  out_v.write('\\t'.join([str(x) for x in vec]) + \"\\n\")\n",
    "  out_m.write(word + \"\\n\")\n",
    "out_v.close()\n",
    "out_m.close()"
   ]
  },
  {
   "cell_type": "markdown",
   "metadata": {
    "id": "JQyMZWyxYjMr"
   },
   "source": [
    "If you are running this workshop in [Colaboratory](https://colab.research.google.com), you can use the following snippet to download these files to your local machine."
   ]
  },
  {
   "cell_type": "code",
   "execution_count": 39,
   "metadata": {
    "execution": {
     "iopub.execute_input": "2022-10-19T22:26:09.662644Z",
     "iopub.status.busy": "2022-10-19T22:26:09.662360Z",
     "iopub.status.idle": "2022-10-19T22:26:09.666936Z",
     "shell.execute_reply": "2022-10-19T22:26:09.666104Z"
    },
    "id": "lUsjQOKMIV2z"
   },
   "outputs": [],
   "source": [
    "try:\n",
    "  from google.colab import files\n",
    "  files.download('vectors.tsv')\n",
    "  files.download('metadata.tsv')\n",
    "except Exception:\n",
    "  pass"
   ]
  },
  {
   "cell_type": "markdown",
   "metadata": {
    "id": "PXLfFA54Yz-o"
   },
   "source": [
    "## Visualize the embeddings\n",
    "\n",
    "To visualize the embeddings, upload them to the embedding projector.\n",
    "\n",
    "Open the [Embedding Projector](http://projector.tensorflow.org/) (this can also run in a local TensorBoard instance).\n",
    "\n",
    "* Click on \"Load data\".\n",
    "\n",
    "* Upload the two files you created above: `vecs.tsv` and `meta.tsv`.\n",
    "\n",
    "The embeddings you have trained will now be displayed. You can search for words to find their closest neighbors. For example, try searching for \"beautiful\". You may see neighbors like \"wonderful\". \n",
    "\n",
    "Note: Experimentally, you may be able to produce more interpretable embeddings by using a simpler model. Try deleting the `Dense(16)` layer, retraining the model, and visualizing the embeddings again.\n",
    "\n",
    "Note: Typically, a much larger dataset is needed to train more interpretable word embeddings. This tutorial uses a small IMDb dataset for the purpose of demonstration.\n"
   ]
  }
 ],
 "metadata": {
  "accelerator": "GPU",
  "colab": {
   "collapsed_sections": [],
   "name": "word_embeddings.ipynb",
   "provenance": [],
   "toc_visible": true
  },
  "kernelspec": {
   "display_name": "Python 3",
   "name": "python3"
  },
  "language_info": {
   "codemirror_mode": {
    "name": "ipython",
    "version": 3
   },
   "file_extension": ".py",
   "mimetype": "text/x-python",
   "name": "python",
   "nbconvert_exporter": "python",
   "pygments_lexer": "ipython3",
   "version": "3.9.6"
  }
 },
 "nbformat": 4,
 "nbformat_minor": 0
}
