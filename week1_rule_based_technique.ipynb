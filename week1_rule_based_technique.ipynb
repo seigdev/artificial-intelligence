{
  "cells": [
    {
      "cell_type": "markdown",
      "metadata": {
        "id": "419C7zBhCBXL"
      },
      "source": [
        "# Exploring techniques for NLP\n",
        "As we mentioned in the lecture slides, the different approaches used to solve NLP problems commonly fall into three categories:\n",
        "- rule-based,\n",
        "- machine learning, and\n",
        "- deep learning.\n",
        "\n",
        "In this notebook we will try to show you how to use rule-based approaches to solve NLP problems. You can open the cloud version of this notebook using the following link:\n",
        "<table class=\"tfo-notebook-buttons\" align=\"left\">\n",
        "  <td>\n",
        "    <a target=\"_blank\" href=\"https://colab.research.google.com/github/Ali-Alameer/NLP/blob/main/week1_rule_based_technique.ipynb\"><img src=\"https://www.tensorflow.org/images/colab_logo_32px.png\" />Run in Google Colab</a>\n",
        "  </td>\n",
        "</table>\n"
      ]
    },
    {
      "cell_type": "markdown",
      "metadata": {
        "id": "DDMIo0_pCBXX"
      },
      "source": [
        "## Rule-based technique\n",
        "Similar to other early AI systems, early attempts at designing NLP systems were based on building rules for the task at hand. This required that the developers had some expertise in the domain to formulate rules that could be incorporated into a program. Such systems also required resources like dictionaries and thesauruses, typically compiled and digitized over a period of time.\n",
        "\n",
        "Regular expressions (regex) are a great tool for text analysis and building rule-based systems. A regex is a set of characters or a pattern that is used to match and find substrings in text. For example, a regex like <b><font color='maroon'>‘^([a-zA-Z0-9_\\-\\.]+)@([a-zA-Z0-9_\\-\\.] +)\\.([a-zA-Z]{2,5})$’</font></b> is used to find all email IDs in a piece of text. Regexes are a great way to incorporate domain knowledge in your NLP system. For example, given a customer complaint that comes via chat or email, we want to build a system to automatically identify the product the complaint is about. There is a range of product codes that map to certain brand names. We can use regexes to match these easily."
      ]
    },
    {
      "cell_type": "markdown",
      "metadata": {
        "id": "MRxXwyPsCBXZ"
      },
      "source": [
        "Senario: Consider a chatbot that tries to help customer support team by identifying order numbers from the following chats with different customers:\n",
        "\n",
        "- <b>Customer 1:</b> \"Hello, I am having an issue with my order # 412889912\"\n",
        "- <b>Customer 2:</b> \"I have a problem with my order number 412889913\"\n",
        "- <b>Customer 3:</b> \"My order 412889915 is having an issue, I was charged £300 when online it says £280\"\n",
        "\n",
        "Regular expression can be used to find all the order numbers in the chat."
      ]
    },
    {
      "cell_type": "code",
      "execution_count": 1,
      "metadata": {
        "id": "RaYj08GDCBXa",
        "outputId": "fb211d08-f371-4bdb-cef2-3a88b5b81fce",
        "colab": {
          "base_uri": "https://localhost:8080/"
        }
      },
      "outputs": [
        {
          "output_type": "execute_result",
          "data": {
            "text/plain": [
              "['412889912']"
            ]
          },
          "metadata": {},
          "execution_count": 1
        }
      ],
      "source": [
        "import re\n",
        "\n",
        "chat1='Customer 1: Hello, I am having an issue with my order # 412889912'\n",
        "\n",
        "pattern = 'order[^\\d]*(\\d*)' # a little details about the pattern given, e.g., \\d digit etc\n",
        "matches = re.findall(pattern, chat1)\n",
        "matches"
      ]
    },
    {
      "cell_type": "code",
      "execution_count": 2,
      "metadata": {
        "id": "-1znbKYcCBXd",
        "outputId": "90168e0d-a45f-42c3-d4c2-084bb5118982",
        "colab": {
          "base_uri": "https://localhost:8080/"
        }
      },
      "outputs": [
        {
          "output_type": "execute_result",
          "data": {
            "text/plain": [
              "['412889912']"
            ]
          },
          "metadata": {},
          "execution_count": 2
        }
      ],
      "source": [
        "chat2='Customer 2: I have a problem with my order number 412889912'\n",
        "pattern = 'order[^\\d]*(\\d*)'\n",
        "matches = re.findall(pattern, chat2)\n",
        "matches"
      ]
    },
    {
      "cell_type": "code",
      "execution_count": 3,
      "metadata": {
        "id": "Eh9fEL0KCBXe",
        "outputId": "a824a4af-f27e-41d1-93ff-0d960308af2b",
        "colab": {
          "base_uri": "https://localhost:8080/"
        }
      },
      "outputs": [
        {
          "output_type": "execute_result",
          "data": {
            "text/plain": [
              "['412889912']"
            ]
          },
          "metadata": {},
          "execution_count": 3
        }
      ],
      "source": [
        "chat3='Customer 3: My order 412889912 is having an issue, I was charged £300 when online it says £280'\n",
        "pattern = 'order[^\\d]*(\\d*)'\n",
        "matches = re.findall(pattern, chat3)\n",
        "matches"
      ]
    },
    {
      "cell_type": "code",
      "execution_count": 4,
      "metadata": {
        "id": "ap3Ky8_hCBXf"
      },
      "outputs": [],
      "source": [
        "def get_pattern_match(pattern, text):\n",
        "    matches = re.findall(pattern, text)\n",
        "    if matches:\n",
        "        return matches[0]"
      ]
    },
    {
      "cell_type": "code",
      "execution_count": 6,
      "metadata": {
        "id": "qNMB9SIPCBXg",
        "outputId": "3b770542-cba9-4cdb-826c-f88e1cfca3f9",
        "colab": {
          "base_uri": "https://localhost:8080/",
          "height": 35
        }
      },
      "outputs": [
        {
          "output_type": "execute_result",
          "data": {
            "text/plain": [
              "'412889912'"
            ],
            "application/vnd.google.colaboratory.intrinsic+json": {
              "type": "string"
            }
          },
          "metadata": {},
          "execution_count": 6
        }
      ],
      "source": [
        "get_pattern_match('order[^\\d]*(\\d*)', chat2)"
      ]
    },
    {
      "cell_type": "markdown",
      "metadata": {
        "id": "V0z8_x8YCBXh"
      },
      "source": [
        "## Exercise\n",
        "In the following of conversation, chatbot asked about the customer phone number and email address. Following are three sample answers:\n",
        "\n",
        "- <b>Customer 1:</b> \"you ask lot of questions 😠  1235678912, customer1@salford.com\"\n",
        "- <b>Customer 2:</b> \"here it is: (123)-567-8912, cust2@gmail.com\"\n",
        "- <b>Customer 3:</b> \"yes, phone: 1235678912 email: customer_3@my-site.com\"\n",
        "\n",
        "Try to write regular expression to find the phone number and email address for each response.\n"
      ]
    },
    {
      "cell_type": "code",
      "execution_count": 9,
      "metadata": {
        "id": "_9V8Vgq0CBXi"
      },
      "outputs": [],
      "source": [
        "chat1 = 'Customer 1: you ask lot of questions 😠  1235678912, customer1@salford.com'\n",
        "chat2 = 'Customer 2: here it is: (123)-567-8912, cust2@gmail.com'\n",
        "chat3 = 'Customer 3: yes, phone: 1235678912 email: customer_3@my-site.com'"
      ]
    },
    {
      "cell_type": "code",
      "execution_count": 17,
      "metadata": {
        "id": "-TqvTYKfCBXi",
        "outputId": "091435ec-4b3f-4166-c67c-a2ec6494a592",
        "colab": {
          "base_uri": "https://localhost:8080/",
          "height": 35
        }
      },
      "outputs": [
        {
          "output_type": "execute_result",
          "data": {
            "text/plain": [
              "'customer1@salford.com'"
            ],
            "application/vnd.google.colaboratory.intrinsic+json": {
              "type": "string"
            }
          },
          "metadata": {},
          "execution_count": 17
        }
      ],
      "source": [
        "# write a pattern to extract email address of customer 1.\n",
        "pattern = r'[\\w\\.-]+@[\\w\\.-]+'\n",
        "matches = re.findall(pattern, chat1)\n",
        "get_pattern_match(pattern ,chat1)"
      ]
    },
    {
      "cell_type": "code",
      "execution_count": 36,
      "metadata": {
        "id": "wjIz1nu1CBXj",
        "outputId": "ed1578eb-d72e-40a2-ce11-eb656441060f",
        "colab": {
          "base_uri": "https://localhost:8080/",
          "height": 35
        }
      },
      "outputs": [
        {
          "output_type": "execute_result",
          "data": {
            "text/plain": [
              "'(123)-567-8912'"
            ],
            "application/vnd.google.colaboratory.intrinsic+json": {
              "type": "string"
            }
          },
          "metadata": {},
          "execution_count": 36
        }
      ],
      "source": [
        "# write a pattern to extract phone number of customer 2.\n",
        "pattern = r'\\(\\d{3}\\)-\\d{3}-\\d{4}'\n",
        "matches = re.findall(pattern, chat2)\n",
        "get_pattern_match(pattern ,chat2)"
      ]
    },
    {
      "cell_type": "code",
      "execution_count": 37,
      "metadata": {
        "id": "iSehQjnvCBXk",
        "outputId": "3e88f326-75b1-4de5-a44f-b172377afaa7",
        "colab": {
          "base_uri": "https://localhost:8080/",
          "height": 35
        }
      },
      "outputs": [
        {
          "output_type": "execute_result",
          "data": {
            "text/plain": [
              "'1235678912'"
            ],
            "application/vnd.google.colaboratory.intrinsic+json": {
              "type": "string"
            }
          },
          "metadata": {},
          "execution_count": 37
        }
      ],
      "source": [
        "# write a pattern to extract phone number of customer 3.\n",
        "pattern = r'\\d{10}'\n",
        "matches = re.findall(pattern, chat3)\n",
        "get_pattern_match(pattern ,chat3)"
      ]
    },
    {
      "cell_type": "code",
      "source": [],
      "metadata": {
        "id": "5osAlVvnHa2N"
      },
      "execution_count": null,
      "outputs": []
    }
  ],
  "metadata": {
    "kernelspec": {
      "display_name": "week1",
      "language": "python",
      "name": "python3"
    },
    "language_info": {
      "codemirror_mode": {
        "name": "ipython",
        "version": 3
      },
      "file_extension": ".py",
      "mimetype": "text/x-python",
      "name": "python",
      "nbconvert_exporter": "python",
      "pygments_lexer": "ipython3",
      "version": "3.9.0 (default, Nov 15 2020, 08:30:55) [MSC v.1916 64 bit (AMD64)]"
    },
    "orig_nbformat": 4,
    "vscode": {
      "interpreter": {
        "hash": "778111f43dd4467f233eb510082683772f85150aae7e84a1db9ec8d6d394ff07"
      }
    },
    "colab": {
      "provenance": []
    }
  },
  "nbformat": 4,
  "nbformat_minor": 0
}