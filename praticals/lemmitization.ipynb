{
 "cells": [
  {
   "cell_type": "markdown",
   "metadata": {},
   "source": [
    "## wordnet lemmatizer\n",
    "\n",
    "it is a fuction like stemming but a valid word \"lemma\" is returned which is a root word.\n",
    "\n",
    "Lemmatixzation takes more time.\n",
    "\n",
    "usecase : chatbots, Q/A, text summarization.."
   ]
  },
  {
   "cell_type": "code",
   "execution_count": 1,
   "metadata": {},
   "outputs": [
    {
     "name": "stderr",
     "output_type": "stream",
     "text": [
      "[nltk_data] Downloading package wordnet to\n",
      "[nltk_data]     /Users/sooreoluwa/nltk_data...\n",
      "[nltk_data]   Package wordnet is already up-to-date!\n"
     ]
    }
   ],
   "source": [
    "import nltk\n",
    "nltk.download('wordnet')\n",
    "\n",
    "from nltk.stem import WordNetLemmatizer"
   ]
  },
  {
   "cell_type": "code",
   "execution_count": 2,
   "metadata": {},
   "outputs": [],
   "source": [
    "lemmatizer = WordNetLemmatizer()\n"
   ]
  },
  {
   "cell_type": "code",
   "execution_count": 3,
   "metadata": {},
   "outputs": [],
   "source": [
    "words = [\"running\",\"eaten\", \"going\", \"flies\", \"happily\", \"jumps\", \"easily\", \"programming\", \"programmer\",\"history\", \"finally\",\"sportingly\"]"
   ]
  },
  {
   "cell_type": "code",
   "execution_count": 4,
   "metadata": {},
   "outputs": [
    {
     "name": "stdout",
     "output_type": "stream",
     "text": [
      "running ----> run\n",
      "eaten ----> eat\n",
      "going ----> go\n",
      "flies ----> fly\n",
      "happily ----> happily\n",
      "jumps ----> jump\n",
      "easily ----> easily\n",
      "programming ----> program\n",
      "programmer ----> programmer\n",
      "history ----> history\n",
      "finally ----> finally\n",
      "sportingly ----> sportingly\n"
     ]
    }
   ],
   "source": [
    "# POS : part of speech (Noun : n, Verb : v, adjective: a, adverb : r)\n",
    "\n",
    "for word in words:\n",
    "    print(word, \"---->\", lemmatizer.lemmatize(word, pos = 'v'))"
   ]
  },
  {
   "cell_type": "code",
   "execution_count": null,
   "metadata": {},
   "outputs": [],
   "source": []
  }
 ],
 "metadata": {
  "kernelspec": {
   "display_name": "Python 3",
   "language": "python",
   "name": "python3"
  },
  "language_info": {
   "codemirror_mode": {
    "name": "ipython",
    "version": 3
   },
   "file_extension": ".py",
   "mimetype": "text/x-python",
   "name": "python",
   "nbconvert_exporter": "python",
   "pygments_lexer": "ipython3",
   "version": "3.13.1"
  }
 },
 "nbformat": 4,
 "nbformat_minor": 2
}
