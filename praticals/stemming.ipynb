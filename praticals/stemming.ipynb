{
 "cells": [
  {
   "cell_type": "markdown",
   "metadata": {},
   "source": [
    "## stemming\n",
    " stemming is the process of reducing words to their base forms, goal is to group words with similar meaning. (affixes, prefixes, suffixes)\n",
    "\n",
    " usecase : classification, sentiment analysis, information retrieval, spell checking, plagiarism detection"
   ]
  },
  {
   "cell_type": "code",
   "execution_count": 1,
   "metadata": {},
   "outputs": [],
   "source": [
    "words = [\"running\", \"flies\", \"happily\", \"jumps\", \"easily\", \"programming\", \"programmer\",\"history\", \"finally\",\"sportingly\"]"
   ]
  },
  {
   "cell_type": "code",
   "execution_count": 2,
   "metadata": {},
   "outputs": [],
   "source": [
    "from nltk.stem import PorterStemmer, RegexpStemmer, SnowballStemmer"
   ]
  },
  {
   "cell_type": "code",
   "execution_count": 3,
   "metadata": {},
   "outputs": [
    {
     "name": "stdout",
     "output_type": "stream",
     "text": [
      "running  ----->  run\n",
      "flies  ----->  fli\n",
      "happily  ----->  happili\n",
      "jumps  ----->  jump\n",
      "easily  ----->  easili\n",
      "programming  ----->  program\n",
      "programmer  ----->  programm\n",
      "history  ----->  histori\n",
      "finally  ----->  final\n",
      "sportingly  ----->  sportingli\n"
     ]
    }
   ],
   "source": [
    "## using porter stemmer\n",
    "\n",
    "porterStemmer = PorterStemmer()\n",
    "\n",
    "for word in words:\n",
    "    print(word, \" -----> \", porterStemmer.stem(word))"
   ]
  },
  {
   "cell_type": "markdown",
   "metadata": {},
   "source": [
    "## regex stemmer class\n",
    "\n",
    "implementation of regualr expression algorithm."
   ]
  },
  {
   "cell_type": "code",
   "execution_count": 4,
   "metadata": {},
   "outputs": [
    {
     "name": "stdout",
     "output_type": "stream",
     "text": [
      "running  ----->  runn\n",
      "flies  ----->  flie\n",
      "happily  ----->  happily\n",
      "jumps  ----->  jump\n",
      "easily  ----->  easily\n",
      "programming  ----->  programm\n",
      "programmer  ----->  programmer\n",
      "history  ----->  history\n",
      "finally  ----->  finally\n",
      "sportingly  ----->  sportingly\n"
     ]
    }
   ],
   "source": [
    "regStemmer = RegexpStemmer('ing$|s$|e$|able$')\n",
    "\n",
    "for word in words:\n",
    "    print(word, \" -----> \", regStemmer.stem(word))"
   ]
  },
  {
   "cell_type": "code",
   "execution_count": 5,
   "metadata": {},
   "outputs": [
    {
     "name": "stdout",
     "output_type": "stream",
     "text": [
      "running  ----->  run\n",
      "flies  ----->  fli\n",
      "happily  ----->  happili\n",
      "jumps  ----->  jump\n",
      "easily  ----->  easili\n",
      "programming  ----->  program\n",
      "programmer  ----->  programm\n",
      "history  ----->  histori\n",
      "finally  ----->  final\n",
      "sportingly  ----->  sport\n"
     ]
    }
   ],
   "source": [
    "## snowball stemmer\n",
    "\n",
    "snowballStemmer = SnowballStemmer(\"english\")\n",
    "\n",
    "for word in words:\n",
    "    print(word, \" -----> \", snowballStemmer.stem(word))"
   ]
  },
  {
   "cell_type": "code",
   "execution_count": null,
   "metadata": {},
   "outputs": [],
   "source": [
    " "
   ]
  }
 ],
 "metadata": {
  "kernelspec": {
   "display_name": "Python 3",
   "language": "python",
   "name": "python3"
  },
  "language_info": {
   "codemirror_mode": {
    "name": "ipython",
    "version": 3
   },
   "file_extension": ".py",
   "mimetype": "text/x-python",
   "name": "python",
   "nbconvert_exporter": "python",
   "pygments_lexer": "ipython3",
   "version": "3.13.1"
  }
 },
 "nbformat": 4,
 "nbformat_minor": 2
}
