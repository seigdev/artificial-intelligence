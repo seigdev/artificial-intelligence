{
 "cells": [
  {
   "cell_type": "code",
   "execution_count": 1,
   "metadata": {},
   "outputs": [
    {
     "name": "stderr",
     "output_type": "stream",
     "text": [
      "[nltk_data] Downloading package averaged_perceptron_tagger_eng to\n",
      "[nltk_data]     /Users/sooreoluwa/nltk_data...\n",
      "[nltk_data]   Package averaged_perceptron_tagger_eng is already up-to-\n",
      "[nltk_data]       date!\n"
     ]
    }
   ],
   "source": [
    "import nltk\n",
    "nltk.download('averaged_perceptron_tagger_eng')\n",
    "\n",
    "paragraph = \"\"\"It is an honour to stand before you today, in the land of dreams and aspirations. Each one of you has a unique potential, a spark within that, if nurtured and cultivated, can transform the world. The power of dreams is immense, and if we dare to dream and strive to make those dreams a reality, we will not only uplift ourselves, but also the nation and the entire world.\n",
    "\n",
    "I have often said, \"Dream, dream, dream. Dreams transform into thoughts, and thoughts result in action.\" Every great achievement in human history began with a simple dream. It is through dreams that we build bridges of progress, surmount the mountains of adversity, and reach the stars. But remember, it is not enough to merely dream; we must work with diligence, perseverance, and integrity to turn those dreams into tangible results.\n",
    "\n",
    "In my life, I have had the privilege of working with some of the brightest minds in our country, and I have seen what is possible when youth, with their boundless energy and creativity, put their heart and soul into something. From the development of space technology to the advancements in nuclear science, we have shown that India can rise to any challenge, if only we put our minds to it.\n",
    "\n",
    "But beyond science, beyond technology, I urge you to remember one thing: the true measure of success is not just in the laurels you receive, but in how you use your knowledge, your skills, and your compassion to serve humanity. Service to others is the highest form of accomplishment. When you dedicate yourself to the welfare of others, your success will become more meaningful, more profound.\n",
    "\n",
    "Let me tell you something very important. Every student, every individual, has the potential to bring about a change. You must ask yourself: “What is the contribution I can make to my society, my country, my world?” Whether you are an engineer, a doctor, a teacher, or a farmer, your role is vital. And with the right attitude, with the right values, you can lead the way.\n",
    "\n",
    "You are the leaders of tomorrow. You are the creators of a new dawn. Keep the fire of curiosity burning, and keep pushing the boundaries of what is possible. If you are passionate about something, do not let anything stop you. As I always say, \"The best way to predict the future is to create it.\"\n",
    "\n",
    "I have full faith in you, my young friends. Go ahead, dream big, achieve big, and serve the world with all your heart.\n",
    "\n",
    "Thank you.\n",
    "\"\"\""
   ]
  },
  {
   "cell_type": "code",
   "execution_count": 11,
   "metadata": {},
   "outputs": [],
   "source": [
    "import nltk\n",
    "from nltk.corpus import stopwords"
   ]
  },
  {
   "cell_type": "code",
   "execution_count": 12,
   "metadata": {},
   "outputs": [],
   "source": [
    "sentences = nltk.sent_tokenize(paragraph)"
   ]
  },
  {
   "cell_type": "code",
   "execution_count": 13,
   "metadata": {},
   "outputs": [
    {
     "data": {
      "text/plain": [
       "['It is an honour to stand before you today, in the land of dreams and aspirations.',\n",
       " 'Each one of you has a unique potential, a spark within that, if nurtured and cultivated, can transform the world.',\n",
       " 'The power of dreams is immense, and if we dare to dream and strive to make those dreams a reality, we will not only uplift ourselves, but also the nation and the entire world.',\n",
       " 'I have often said, \"Dream, dream, dream.',\n",
       " 'Dreams transform into thoughts, and thoughts result in action.\"',\n",
       " 'Every great achievement in human history began with a simple dream.',\n",
       " 'It is through dreams that we build bridges of progress, surmount the mountains of adversity, and reach the stars.',\n",
       " 'But remember, it is not enough to merely dream; we must work with diligence, perseverance, and integrity to turn those dreams into tangible results.',\n",
       " 'In my life, I have had the privilege of working with some of the brightest minds in our country, and I have seen what is possible when youth, with their boundless energy and creativity, put their heart and soul into something.',\n",
       " 'From the development of space technology to the advancements in nuclear science, we have shown that India can rise to any challenge, if only we put our minds to it.',\n",
       " 'But beyond science, beyond technology, I urge you to remember one thing: the true measure of success is not just in the laurels you receive, but in how you use your knowledge, your skills, and your compassion to serve humanity.',\n",
       " 'Service to others is the highest form of accomplishment.',\n",
       " 'When you dedicate yourself to the welfare of others, your success will become more meaningful, more profound.',\n",
       " 'Let me tell you something very important.',\n",
       " 'Every student, every individual, has the potential to bring about a change.',\n",
       " 'You must ask yourself: “What is the contribution I can make to my society, my country, my world?” Whether you are an engineer, a doctor, a teacher, or a farmer, your role is vital.',\n",
       " 'And with the right attitude, with the right values, you can lead the way.',\n",
       " 'You are the leaders of tomorrow.',\n",
       " 'You are the creators of a new dawn.',\n",
       " 'Keep the fire of curiosity burning, and keep pushing the boundaries of what is possible.',\n",
       " 'If you are passionate about something, do not let anything stop you.',\n",
       " 'As I always say, \"The best way to predict the future is to create it.\"',\n",
       " 'I have full faith in you, my young friends.',\n",
       " 'Go ahead, dream big, achieve big, and serve the world with all your heart.',\n",
       " 'Thank you.']"
      ]
     },
     "execution_count": 13,
     "metadata": {},
     "output_type": "execute_result"
    }
   ],
   "source": [
    "sentences"
   ]
  },
  {
   "cell_type": "code",
   "execution_count": 14,
   "metadata": {},
   "outputs": [
    {
     "name": "stdout",
     "output_type": "stream",
     "text": [
      "[('honour', 'NN'), ('stand', 'NN'), ('today', 'NN'), (',', ','), ('land', 'NN'), ('dreams', 'NNS'), ('aspirations', 'NNS'), ('.', '.')]\n",
      "[('one', 'CD'), ('unique', 'JJ'), ('potential', 'NN'), (',', ','), ('spark', 'NN'), ('within', 'IN'), (',', ','), ('nurtured', 'VBD'), ('cultivated', 'VBN'), (',', ','), ('transform', 'JJ'), ('world', 'NN'), ('.', '.')]\n",
      "[('power', 'NN'), ('dreams', 'NNS'), ('immense', 'VBP'), (',', ','), ('dare', 'JJ'), ('dream', 'NN'), ('strive', 'JJ'), ('make', 'NN'), ('dreams', 'NN'), ('reality', 'NN'), (',', ','), ('uplift', 'NN'), (',', ','), ('also', 'RB'), ('nation', 'NN'), ('entire', 'JJ'), ('world', 'NN'), ('.', '.')]\n",
      "[('often', 'RB'), ('said', 'VBD'), (',', ','), ('``', '``'), ('dream', 'NN'), (',', ','), ('dream', 'NN'), (',', ','), ('dream', 'NN'), ('.', '.')]\n",
      "[('dreams', 'NNS'), ('transform', 'VB'), ('thoughts', 'NNS'), (',', ','), ('thoughts', 'NNS'), ('result', 'VBP'), ('action', 'NN'), ('.', '.'), (\"''\", \"''\")]\n",
      "[('every', 'DT'), ('great', 'JJ'), ('achievement', 'JJ'), ('human', 'JJ'), ('history', 'NN'), ('began', 'VBD'), ('simple', 'JJ'), ('dream', 'NN'), ('.', '.')]\n",
      "[('dreams', 'NNS'), ('build', 'VBP'), ('bridges', 'NNS'), ('progress', 'NN'), (',', ','), ('surmount', 'NN'), ('mountains', 'NNS'), ('adversity', 'NN'), (',', ','), ('reach', 'NN'), ('stars', 'NNS'), ('.', '.')]\n",
      "[('remember', 'VB'), (',', ','), ('enough', 'RB'), ('merely', 'RB'), ('dream', 'NN'), (';', ':'), ('must', 'MD'), ('work', 'VB'), ('diligence', 'NN'), (',', ','), ('perseverance', 'NN'), (',', ','), ('integrity', 'NN'), ('turn', 'VBP'), ('dreams', 'NNS'), ('tangible', 'JJ'), ('results', 'NNS'), ('.', '.')]\n",
      "[('life', 'NN'), (',', ','), ('privilege', 'NN'), ('working', 'VBG'), ('brightest', 'JJS'), ('minds', 'NNS'), ('country', 'NN'), (',', ','), ('seen', 'VBN'), ('possible', 'JJ'), ('youth', 'NN'), (',', ','), ('boundless', 'NN'), ('energy', 'NN'), ('creativity', 'NN'), (',', ','), ('put', 'VBD'), ('heart', 'NN'), ('soul', 'NN'), ('something', 'NN'), ('.', '.')]\n",
      "[('development', 'NN'), ('space', 'NN'), ('technology', 'NN'), ('advancements', 'NNS'), ('nuclear', 'JJ'), ('science', 'NN'), (',', ','), ('shown', 'VBN'), ('india', 'JJ'), ('rise', 'NN'), ('challenge', 'NN'), (',', ','), ('put', 'VBD'), ('minds', 'NNS'), ('.', '.')]\n",
      "[('beyond', 'IN'), ('science', 'NN'), (',', ','), ('beyond', 'IN'), ('technology', 'NN'), (',', ','), ('urge', 'JJ'), ('remember', 'VB'), ('one', 'CD'), ('thing', 'NN'), (':', ':'), ('true', 'JJ'), ('measure', 'NN'), ('success', 'NN'), ('laurels', 'NNS'), ('receive', 'VBP'), (',', ','), ('use', 'VBP'), ('knowledge', 'NN'), (',', ','), ('skills', 'NNS'), (',', ','), ('compassion', 'NN'), ('serve', 'NN'), ('humanity', 'NN'), ('.', '.')]\n",
      "[('service', 'NN'), ('others', 'NNS'), ('highest', 'JJS'), ('form', 'NN'), ('accomplishment', 'NN'), ('.', '.')]\n",
      "[('dedicate', 'NN'), ('welfare', 'NN'), ('others', 'NNS'), (',', ','), ('success', 'NN'), ('become', 'NN'), ('meaningful', 'JJ'), (',', ','), ('profound', 'NN'), ('.', '.')]\n",
      "[('let', 'VB'), ('tell', 'VB'), ('something', 'NN'), ('important', 'JJ'), ('.', '.')]\n",
      "[('every', 'DT'), ('student', 'NN'), (',', ','), ('every', 'DT'), ('individual', 'NN'), (',', ','), ('potential', 'JJ'), ('bring', 'NN'), ('change', 'NN'), ('.', '.')]\n",
      "[('must', 'MD'), ('ask', 'VB'), (':', ':'), ('“', 'JJ'), ('contribution', 'NN'), ('make', 'VBP'), ('society', 'NN'), (',', ','), ('country', 'NN'), (',', ','), ('world', 'NN'), ('?', '.'), ('”', 'JJ'), ('whether', 'IN'), ('engineer', 'NN'), (',', ','), ('doctor', 'NN'), (',', ','), ('teacher', 'RB'), (',', ','), ('farmer', 'NN'), (',', ','), ('role', 'NN'), ('vital', 'NN'), ('.', '.')]\n",
      "[('right', 'JJ'), ('attitude', 'NN'), (',', ','), ('right', 'JJ'), ('values', 'NNS'), (',', ','), ('lead', 'JJ'), ('way', 'NN'), ('.', '.')]\n",
      "[('leaders', 'NNS'), ('tomorrow', 'NN'), ('.', '.')]\n",
      "[('creators', 'NNS'), ('new', 'JJ'), ('dawn', 'NN'), ('.', '.')]\n",
      "[('keep', 'VB'), ('fire', 'NN'), ('curiosity', 'NN'), ('burning', 'NN'), (',', ','), ('keep', 'VB'), ('pushing', 'VBG'), ('boundaries', 'NNS'), ('possible', 'JJ'), ('.', '.')]\n",
      "[('passionate', 'NN'), ('something', 'NN'), (',', ','), ('let', 'VB'), ('anything', 'NN'), ('stop', 'VB'), ('.', '.')]\n",
      "[('always', 'RB'), ('say', 'VBP'), (',', ','), ('``', '``'), ('best', 'JJS'), ('way', 'NN'), ('predict', 'JJ'), ('future', 'NN'), ('create', 'NN'), ('.', '.'), (\"''\", \"''\")]\n",
      "[('full', 'JJ'), ('faith', 'NN'), (',', ','), ('young', 'JJ'), ('friends', 'NNS'), ('.', '.')]\n",
      "[('go', 'VB'), ('ahead', 'RB'), (',', ','), ('dream', 'NN'), ('big', 'JJ'), (',', ','), ('achieve', 'JJ'), ('big', 'JJ'), (',', ','), ('serve', 'JJ'), ('world', 'NN'), ('heart', 'NN'), ('.', '.')]\n",
      "[('thank', 'NN'), ('.', '.')]\n"
     ]
    }
   ],
   "source": [
    "# finding out the POS tag\n",
    "for i in range(len(sentences)):\n",
    "    # change sentence to lowercase.\n",
    "    sentences[i] = sentences[i].lower()\n",
    "    # perform word tokenization first.\n",
    "    words = nltk.word_tokenize(sentences[i]) \n",
    "    # return word in the list of words not present in stopwords using list comprehension\n",
    "    new_words = [word for word in words if word not in set(stopwords.words(\"english\"))]\n",
    "    # sentences[i] = \" \".join(new_words) # converting all the new words into sentences\n",
    "    post_tag = nltk.pos_tag(new_words)\n",
    "    print(post_tag)"
   ]
  },
  {
   "cell_type": "code",
   "execution_count": 24,
   "metadata": {},
   "outputs": [
    {
     "name": "stdout",
     "output_type": "stream",
     "text": [
      "[('I', 'PRP'), ('am', 'VBP'), ('an', 'DT'), ('Artificial', 'JJ'), ('Intelligence', 'NN'), ('enthusiast', 'NN')]\n"
     ]
    }
   ],
   "source": [
    "# on a single sentence, you have to split\n",
    "statement = \"I am an Artificial Intelligence enthusiast\"\n",
    "words = statement.split()\n",
    "print(nltk.pos_tag(words))"
   ]
  },
  {
   "cell_type": "code",
   "execution_count": null,
   "metadata": {},
   "outputs": [],
   "source": []
  }
 ],
 "metadata": {
  "kernelspec": {
   "display_name": "Python 3",
   "language": "python",
   "name": "python3"
  },
  "language_info": {
   "codemirror_mode": {
    "name": "ipython",
    "version": 3
   },
   "file_extension": ".py",
   "mimetype": "text/x-python",
   "name": "python",
   "nbconvert_exporter": "python",
   "pygments_lexer": "ipython3",
   "version": "3.13.1"
  }
 },
 "nbformat": 4,
 "nbformat_minor": 2
}
